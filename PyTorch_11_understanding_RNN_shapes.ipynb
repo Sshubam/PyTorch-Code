{
  "nbformat": 4,
  "nbformat_minor": 0,
  "metadata": {
    "colab": {
      "name": "PyTorch_11_understanding_RNN_shapes.ipynb",
      "provenance": [],
      "authorship_tag": "ABX9TyOp10g9eTp6EUyHUgL2p/ek",
      "include_colab_link": true
    },
    "kernelspec": {
      "name": "python3",
      "display_name": "Python 3"
    },
    "language_info": {
      "name": "python"
    }
  },
  "cells": [
    {
      "cell_type": "markdown",
      "metadata": {
        "id": "view-in-github",
        "colab_type": "text"
      },
      "source": [
        "<a href=\"https://colab.research.google.com/github/Sshubam/PyTorch-Code/blob/main/PyTorch_11_understanding_RNN_shapes.ipynb\" target=\"_parent\"><img src=\"https://colab.research.google.com/assets/colab-badge.svg\" alt=\"Open In Colab\"/></a>"
      ]
    },
    {
      "cell_type": "code",
      "metadata": {
        "id": "0rKqXsbdTL69"
      },
      "source": [
        "import torch\n",
        "import torch.nn as nn\n",
        "import numpy as np\n",
        "import matplotlib.pyplot as plt"
      ],
      "execution_count": null,
      "outputs": []
    },
    {
      "cell_type": "code",
      "metadata": {
        "id": "7-LFvM2zVHTn"
      },
      "source": [
        "N = 1\n",
        "T = 10\n",
        "D = 3\n",
        "M = 5\n",
        "K = 2\n",
        "X = np.random.randn(N, T, D)"
      ],
      "execution_count": null,
      "outputs": []
    },
    {
      "cell_type": "code",
      "metadata": {
        "colab": {
          "base_uri": "https://localhost:8080/"
        },
        "id": "v8wQNignVxSI",
        "outputId": "2a002b51-3405-4b36-8863-e136decdc24b"
      },
      "source": [
        "X"
      ],
      "execution_count": null,
      "outputs": [
        {
          "output_type": "execute_result",
          "data": {
            "text/plain": [
              "array([[[ 0.58000334, -0.06914095,  1.14470997],\n",
              "        [-0.69689015, -0.86975093, -0.59115776],\n",
              "        [ 0.20440894,  0.48976944, -0.18179138],\n",
              "        [ 0.51348737,  1.21080924, -0.59365223],\n",
              "        [ 1.11281428, -0.93358827, -0.37414766],\n",
              "        [-1.65361134, -1.71777051, -1.39071671],\n",
              "        [ 0.476168  ,  0.49235149,  0.72178638],\n",
              "        [ 2.17770843, -0.42823937,  0.30950953],\n",
              "        [-0.84159845, -0.77408767, -0.68714487],\n",
              "        [-1.21662167,  0.24041689, -1.31905917]]])"
            ]
          },
          "metadata": {},
          "execution_count": 4
        }
      ]
    },
    {
      "cell_type": "code",
      "metadata": {
        "id": "L0_mEfOYUo9p"
      },
      "source": [
        "# N = number of samples\n",
        "# T = length of sequence\n",
        "# D = number of input features\n",
        "# M = number of hidden units\n",
        "# K = number of output units"
      ],
      "execution_count": null,
      "outputs": []
    },
    {
      "cell_type": "code",
      "metadata": {
        "id": "mbTPDy90WZ0G"
      },
      "source": [
        "class SimpleRNN(nn.Module):\n",
        "  def __init__(self, n_inputs, n_hidden, n_outputs):\n",
        "    super(SimpleRNN, self).__init__()\n",
        "    self.D = n_inputs\n",
        "    self.M = n_hidden\n",
        "    self.K = n_outputs\n",
        "    self.rnn = nn.RNN(\n",
        "        input_size=self.D,\n",
        "        hidden_size=self.M,\n",
        "        nonlinearity='tanh',\n",
        "        batch_first=True )\n",
        "    self.fc = nn.Linear(self.M, self.K)\n",
        "\n",
        "  def forward(self, X):\n",
        "    h0 = torch.zeros(1, X.size(0), self.M)\n",
        "    out, _ = self.rnn(X, h0)\n",
        "    out = self.fc(out)\n",
        "    return out"
      ],
      "execution_count": null,
      "outputs": []
    },
    {
      "cell_type": "code",
      "metadata": {
        "id": "H9nCsec8aDxz"
      },
      "source": [
        "model = SimpleRNN(n_inputs=D, n_hidden=M, n_outputs=K)"
      ],
      "execution_count": null,
      "outputs": []
    },
    {
      "cell_type": "code",
      "metadata": {
        "colab": {
          "base_uri": "https://localhost:8080/"
        },
        "id": "RAjOnotMapJT",
        "outputId": "95b0a56c-1b16-432b-c9bf-cc31760d0788"
      },
      "source": [
        "inputs = torch.from_numpy(X.astype(np.float32))\n",
        "out = model(inputs)\n",
        "out "
      ],
      "execution_count": null,
      "outputs": [
        {
          "output_type": "execute_result",
          "data": {
            "text/plain": [
              "tensor([[[-0.0580, -0.4716],\n",
              "         [-0.1531, -0.4975],\n",
              "         [ 0.0101, -0.4328],\n",
              "         [ 0.1612, -0.4133],\n",
              "         [ 0.0333, -0.4950],\n",
              "         [-0.2407, -0.3300],\n",
              "         [ 0.0497, -0.4649],\n",
              "         [ 0.0978, -0.5957],\n",
              "         [-0.1135, -0.3581],\n",
              "         [-0.0056, -0.3442]]], grad_fn=<AddBackward0>)"
            ]
          },
          "metadata": {},
          "execution_count": 7
        }
      ]
    },
    {
      "cell_type": "code",
      "metadata": {
        "colab": {
          "base_uri": "https://localhost:8080/"
        },
        "id": "JRPdwpkxbha4",
        "outputId": "a79a37a1-a42d-4029-9371-8d95acf78ef5"
      },
      "source": [
        "out.shape"
      ],
      "execution_count": null,
      "outputs": [
        {
          "output_type": "execute_result",
          "data": {
            "text/plain": [
              "torch.Size([1, 10, 2])"
            ]
          },
          "metadata": {},
          "execution_count": 8
        }
      ]
    },
    {
      "cell_type": "code",
      "metadata": {
        "id": "OOjSpfqqbj7u"
      },
      "source": [
        "#Save array for later\n",
        "Yhats_torch = out.detach().numpy()"
      ],
      "execution_count": null,
      "outputs": []
    },
    {
      "cell_type": "code",
      "metadata": {
        "id": "ILtG-kOmb97Y"
      },
      "source": [
        "W_xh, W_hh, b_xh, b_hh = model.rnn.parameters()"
      ],
      "execution_count": null,
      "outputs": []
    },
    {
      "cell_type": "code",
      "metadata": {
        "colab": {
          "base_uri": "https://localhost:8080/"
        },
        "id": "0oOKCL-YcgJR",
        "outputId": "e6b5e7b7-1d76-40c7-e427-e6f68e3b122f"
      },
      "source": [
        "W_xh.shape"
      ],
      "execution_count": null,
      "outputs": [
        {
          "output_type": "execute_result",
          "data": {
            "text/plain": [
              "torch.Size([5, 3])"
            ]
          },
          "metadata": {},
          "execution_count": 11
        }
      ]
    },
    {
      "cell_type": "code",
      "metadata": {
        "colab": {
          "base_uri": "https://localhost:8080/"
        },
        "id": "IkrXQ9j0cnXq",
        "outputId": "12afe273-c183-46b7-e5ea-8af0beaa0aec"
      },
      "source": [
        "W_xh"
      ],
      "execution_count": null,
      "outputs": [
        {
          "output_type": "execute_result",
          "data": {
            "text/plain": [
              "Parameter containing:\n",
              "tensor([[-0.4446,  0.2872,  0.2413],\n",
              "        [-0.0745, -0.0561,  0.2492],\n",
              "        [-0.0588, -0.1631,  0.0148],\n",
              "        [ 0.0279, -0.3228, -0.0256],\n",
              "        [ 0.1044, -0.1830,  0.4052]], requires_grad=True)"
            ]
          },
          "metadata": {},
          "execution_count": 12
        }
      ]
    },
    {
      "cell_type": "code",
      "metadata": {
        "colab": {
          "base_uri": "https://localhost:8080/"
        },
        "id": "RfIG3Nx2cofO",
        "outputId": "439d66f7-7c27-448d-c174-e8e6ee55b803"
      },
      "source": [
        "W_xh = W_xh.data.numpy()\n",
        "W_xh"
      ],
      "execution_count": null,
      "outputs": [
        {
          "output_type": "execute_result",
          "data": {
            "text/plain": [
              "array([[-0.4446196 ,  0.28716502,  0.24132152],\n",
              "       [-0.0744513 , -0.05611351,  0.24918744],\n",
              "       [-0.05884463, -0.16307223,  0.01478294],\n",
              "       [ 0.02790772, -0.3227859 , -0.02555762],\n",
              "       [ 0.10436749, -0.18300356,  0.40519956]], dtype=float32)"
            ]
          },
          "metadata": {},
          "execution_count": 13
        }
      ]
    },
    {
      "cell_type": "code",
      "metadata": {
        "id": "qAOI82o5czHI"
      },
      "source": [
        "#Convert to NumPy arrays\n",
        "b_xh = b_xh.data.numpy()\n",
        "W_hh = W_hh.data.numpy()\n",
        "b_hh = b_hh.data.numpy()"
      ],
      "execution_count": null,
      "outputs": []
    },
    {
      "cell_type": "code",
      "metadata": {
        "colab": {
          "base_uri": "https://localhost:8080/"
        },
        "id": "jFacRV3VdI6_",
        "outputId": "e11f0637-5de6-4861-d730-1c203ec35e78"
      },
      "source": [
        "W_xh.shape, b_xh.shape, W_hh.shape, b_hh.shape"
      ],
      "execution_count": null,
      "outputs": [
        {
          "output_type": "execute_result",
          "data": {
            "text/plain": [
              "((5, 3), (5,), (5, 5), (5,))"
            ]
          },
          "metadata": {},
          "execution_count": 15
        }
      ]
    },
    {
      "cell_type": "code",
      "metadata": {
        "id": "NsUT5VeOdiQ4"
      },
      "source": [
        "Wo, bo = model.fc.parameters()"
      ],
      "execution_count": null,
      "outputs": []
    },
    {
      "cell_type": "code",
      "metadata": {
        "colab": {
          "base_uri": "https://localhost:8080/"
        },
        "id": "VQWFOQNqdrAB",
        "outputId": "eb61f6d6-5f1b-4bd1-b588-b1ef8e838baa"
      },
      "source": [
        "Wo = Wo.data.numpy()\n",
        "bo = bo.data.numpy()\n",
        "Wo.shape, bo.shape"
      ],
      "execution_count": null,
      "outputs": [
        {
          "output_type": "execute_result",
          "data": {
            "text/plain": [
              "((2, 5), (2,))"
            ]
          },
          "metadata": {},
          "execution_count": 17
        }
      ]
    }
  ]
}