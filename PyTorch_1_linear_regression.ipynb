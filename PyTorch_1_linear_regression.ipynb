{
  "nbformat": 4,
  "nbformat_minor": 0,
  "metadata": {
    "colab": {
      "name": "PyTorch_1_linear_regression.ipynb",
      "provenance": [],
      "authorship_tag": "ABX9TyNnklPYhqAY4JXazjKMnd5p",
      "include_colab_link": true
    },
    "kernelspec": {
      "name": "python3",
      "display_name": "Python 3"
    },
    "language_info": {
      "name": "python"
    }
  },
  "cells": [
    {
      "cell_type": "markdown",
      "metadata": {
        "id": "view-in-github",
        "colab_type": "text"
      },
      "source": [
        "<a href=\"https://colab.research.google.com/github/Sshubam/PyTorch-Code/blob/main/PyTorch_1_linear_regression.ipynb\" target=\"_parent\"><img src=\"https://colab.research.google.com/assets/colab-badge.svg\" alt=\"Open In Colab\"/></a>"
      ]
    },
    {
      "cell_type": "code",
      "metadata": {
        "id": "r3zqhw5ukhuM"
      },
      "source": [
        "import torch\n",
        "import torch.nn as nn\n",
        "import numpy as np\n",
        "import matplotlib.pyplot as plt"
      ],
      "execution_count": null,
      "outputs": []
    },
    {
      "cell_type": "code",
      "metadata": {
        "colab": {
          "base_uri": "https://localhost:8080/"
        },
        "id": "PV3-BqRnk7xY",
        "outputId": "4d04cc9d-8b7e-4f1b-8aef-c0cc242cb0f1"
      },
      "source": [
        "N = 20\n",
        "\n",
        "X = np.random.random(N)*10 - 5\n",
        "Y = 0.5*X-1 + np.random.randn(N)\n",
        "X, Y"
      ],
      "execution_count": null,
      "outputs": [
        {
          "output_type": "execute_result",
          "data": {
            "text/plain": [
              "(array([-3.88858239,  2.19462898, -0.93027711,  1.024305  ,  4.69681252,\n",
              "         2.9810403 , -4.06827437,  2.89170046,  4.39541677,  1.55365277,\n",
              "         1.80323133, -2.88027176, -1.88508664,  1.37365792,  4.91708981,\n",
              "        -1.26072931,  4.57486737,  0.62601158, -3.25836573,  3.38156986]),\n",
              " array([-1.8319707 ,  0.49976186, -2.04108282, -0.49327903,  2.09953193,\n",
              "        -0.3936303 , -3.15378767,  1.11325051,  0.76387569, -1.24767186,\n",
              "        -1.18301887, -2.73913846, -4.64779251, -0.53423856,  2.16933504,\n",
              "        -1.6345316 ,  2.22413104, -2.28740004, -2.04208004,  0.34129977]))"
            ]
          },
          "metadata": {
            "tags": []
          },
          "execution_count": 22
        }
      ]
    },
    {
      "cell_type": "code",
      "metadata": {
        "colab": {
          "base_uri": "https://localhost:8080/",
          "height": 282
        },
        "id": "RZePvCsanBGk",
        "outputId": "6142d899-7a52-46c6-ea33-71daeab9a60a"
      },
      "source": [
        "plt.scatter(X, Y)"
      ],
      "execution_count": null,
      "outputs": [
        {
          "output_type": "execute_result",
          "data": {
            "text/plain": [
              "<matplotlib.collections.PathCollection at 0x7f94c6eb9290>"
            ]
          },
          "metadata": {
            "tags": []
          },
          "execution_count": 23
        },
        {
          "output_type": "display_data",
          "data": {
            "image/png": "[encoded data removed]",
            "text/plain": [
              "<Figure size 432x288 with 1 Axes>"
            ]
          },
          "metadata": {
            "tags": [],
            "needs_background": "light"
          }
        }
      ]
    },
    {
      "cell_type": "code",
      "metadata": {
        "colab": {
          "base_uri": "https://localhost:8080/"
        },
        "id": "QTDVK3j3nEcc",
        "outputId": "6dd24469-a8f7-4b66-c920-7bfb64b06b61"
      },
      "source": [
        "model = nn.Linear(1, 1)\n",
        "criterion=nn.MSELoss()\n",
        "optimizer = torch.optim.SGD(model.parameters(), lr=0.05)\n",
        "X = X.reshape(N, 1)\n",
        "Y = Y.reshape(N, 1)\n",
        "inputs = torch.from_numpy(X.astype(np.float32))\n",
        "targets = torch.from_numpy(Y.astype(np.float32))\n",
        "X, Y"
      ],
      "execution_count": null,
      "outputs": [
        {
          "output_type": "execute_result",
          "data": {
            "text/plain": [
              "(array([[-3.88858239],\n",
              "        [ 2.19462898],\n",
              "        [-0.93027711],\n",
              "        [ 1.024305  ],\n",
              "        [ 4.69681252],\n",
              "        [ 2.9810403 ],\n",
              "        [-4.06827437],\n",
              "        [ 2.89170046],\n",
              "        [ 4.39541677],\n",
              "        [ 1.55365277],\n",
              "        [ 1.80323133],\n",
              "        [-2.88027176],\n",
              "        [-1.88508664],\n",
              "        [ 1.37365792],\n",
              "        [ 4.91708981],\n",
              "        [-1.26072931],\n",
              "        [ 4.57486737],\n",
              "        [ 0.62601158],\n",
              "        [-3.25836573],\n",
              "        [ 3.38156986]]), array([[-1.8319707 ],\n",
              "        [ 0.49976186],\n",
              "        [-2.04108282],\n",
              "        [-0.49327903],\n",
              "        [ 2.09953193],\n",
              "        [-0.3936303 ],\n",
              "        [-3.15378767],\n",
              "        [ 1.11325051],\n",
              "        [ 0.76387569],\n",
              "        [-1.24767186],\n",
              "        [-1.18301887],\n",
              "        [-2.73913846],\n",
              "        [-4.64779251],\n",
              "        [-0.53423856],\n",
              "        [ 2.16933504],\n",
              "        [-1.6345316 ],\n",
              "        [ 2.22413104],\n",
              "        [-2.28740004],\n",
              "        [-2.04208004],\n",
              "        [ 0.34129977]]))"
            ]
          },
          "metadata": {
            "tags": []
          },
          "execution_count": 24
        }
      ]
    },
    {
      "cell_type": "code",
      "metadata": {
        "colab": {
          "base_uri": "https://localhost:8080/"
        },
        "id": "HGUYuebVqLgZ",
        "outputId": "f09054a9-a723-4002-817d-494c34b7e514"
      },
      "source": [
        "type(inputs)"
      ],
      "execution_count": null,
      "outputs": [
        {
          "output_type": "execute_result",
          "data": {
            "text/plain": [
              "torch.Tensor"
            ]
          },
          "metadata": {
            "tags": []
          },
          "execution_count": 25
        }
      ]
    },
    {
      "cell_type": "code",
      "metadata": {
        "colab": {
          "base_uri": "https://localhost:8080/"
        },
        "id": "qFFQIwNEkbTQ",
        "outputId": "fefdf36b-0809-4012-832e-88469fb36d65"
      },
      "source": [
        "n_epochs = 30\n",
        "losses = []\n",
        "for it in range(n_epochs):\n",
        "  optimizer.zero_grad()\n",
        "  #Forward pass \n",
        "  outputs=model(inputs)\n",
        "  loss = criterion(outputs, targets)\n",
        "  #keep the loss so we can plot it later\n",
        "  losses.append(loss.item())\n",
        "  #BAckward and optimize\n",
        "  loss.backward()\n",
        "  optimizer.step()\n",
        "\n",
        "  print(f'Epoch {it+1}/{n_epochs}, Loss: {loss.item():.4f}')"
      ],
      "execution_count": null,
      "outputs": [
        {
          "output_type": "stream",
          "text": [
            "Epoch 1/30, Loss: 16.5553\n",
            "Epoch 2/30, Loss: 1.0988\n",
            "Epoch 3/30, Loss: 1.0030\n",
            "Epoch 4/30, Loss: 0.9728\n",
            "Epoch 5/30, Loss: 0.9481\n",
            "Epoch 6/30, Loss: 0.9276\n",
            "Epoch 7/30, Loss: 0.9106\n",
            "Epoch 8/30, Loss: 0.8965\n",
            "Epoch 9/30, Loss: 0.8849\n",
            "Epoch 10/30, Loss: 0.8752\n",
            "Epoch 11/30, Loss: 0.8672\n",
            "Epoch 12/30, Loss: 0.8606\n",
            "Epoch 13/30, Loss: 0.8552\n",
            "Epoch 14/30, Loss: 0.8506\n",
            "Epoch 15/30, Loss: 0.8469\n",
            "Epoch 16/30, Loss: 0.8438\n",
            "Epoch 17/30, Loss: 0.8412\n",
            "Epoch 18/30, Loss: 0.8391\n",
            "Epoch 19/30, Loss: 0.8373\n",
            "Epoch 20/30, Loss: 0.8358\n",
            "Epoch 21/30, Loss: 0.8346\n",
            "Epoch 22/30, Loss: 0.8336\n",
            "Epoch 23/30, Loss: 0.8328\n",
            "Epoch 24/30, Loss: 0.8321\n",
            "Epoch 25/30, Loss: 0.8316\n",
            "Epoch 26/30, Loss: 0.8311\n",
            "Epoch 27/30, Loss: 0.8307\n",
            "Epoch 28/30, Loss: 0.8304\n",
            "Epoch 29/30, Loss: 0.8301\n",
            "Epoch 30/30, Loss: 0.8299\n"
          ],
          "name": "stdout"
        }
      ]
    },
    {
      "cell_type": "code",
      "metadata": {
        "colab": {
          "base_uri": "https://localhost:8080/",
          "height": 265
        },
        "id": "COHZxhh6oTtP",
        "outputId": "894ff0d7-4d08-442c-888a-58a8f438771e"
      },
      "source": [
        "plt.plot(losses);"
      ],
      "execution_count": null,
      "outputs": [
        {
          "output_type": "display_data",
          "data": {
            "image/png": "[encoded data removed]",
            "text/plain": [
              "<Figure size 432x288 with 1 Axes>"
            ]
          },
          "metadata": {
            "tags": [],
            "needs_background": "light"
          }
        }
      ]
    },
    {
      "cell_type": "code",
      "metadata": {
        "id": "6KcyyNKpo8Vi",
        "colab": {
          "base_uri": "https://localhost:8080/",
          "height": 265
        },
        "outputId": "b29db7e1-19b8-4347-9351-8fa01b63d92e"
      },
      "source": [
        "predicted = model(inputs).detach().numpy()\n",
        "plt.scatter(X, Y, label='Original data')\n",
        "plt.plot(X, predicted, label='Fitted line')\n",
        "plt.legend()\n",
        "plt.show()"
      ],
      "execution_count": null,
      "outputs": [
        {
          "output_type": "display_data",
          "data": {
            "image/png": "[encoded data removed]",
            "text/plain": [
              "<Figure size 432x288 with 1 Axes>"
            ]
          },
          "metadata": {
            "tags": [],
            "needs_background": "light"
          }
        }
      ]
    },
    {
      "cell_type": "code",
      "metadata": {
        "colab": {
          "base_uri": "https://localhost:8080/"
        },
        "id": "hwwpHOOCrAEb",
        "outputId": "c720eb44-265c-4075-c653-94c7c56fc1c4"
      },
      "source": [
        "with torch.no_grad():\n",
        "  out = model(inputs).numpy()\n",
        "out"
      ],
      "execution_count": null,
      "outputs": [
        {
          "output_type": "execute_result",
          "data": {
            "text/plain": [
              "array([[-3.336196  ],\n",
              "       [-0.02478433],\n",
              "       [-1.7258348 ],\n",
              "       [-0.66185313],\n",
              "       [ 1.3372858 ],\n",
              "       [ 0.40330064],\n",
              "       [-3.4340117 ],\n",
              "       [ 0.35466838],\n",
              "       [ 1.1732202 ],\n",
              "       [-0.37370133],\n",
              "       [-0.23784262],\n",
              "       [-2.7873192 ],\n",
              "       [-2.2455878 ],\n",
              "       [-0.471682  ],\n",
              "       [ 1.4571941 ],\n",
              "       [-1.9057174 ],\n",
              "       [ 1.2709043 ],\n",
              "       [-0.8786652 ],\n",
              "       [-2.9931357 ],\n",
              "       [ 0.6213299 ]], dtype=float32)"
            ]
          },
          "metadata": {
            "tags": []
          },
          "execution_count": 31
        }
      ]
    },
    {
      "cell_type": "code",
      "metadata": {
        "colab": {
          "base_uri": "https://localhost:8080/"
        },
        "id": "DuBkVkRirw8r",
        "outputId": "ad53752f-1100-4f8e-bf2d-5d477c19c3d2"
      },
      "source": [
        "w = model.weight.data.numpy()\n",
        "b = model.bias.data.numpy()\n",
        "print(w, b)"
      ],
      "execution_count": null,
      "outputs": [
        {
          "output_type": "stream",
          "text": [
            "[[0.54435253]] [-1.2194362]\n"
          ],
          "name": "stdout"
        }
      ]
    }
  ]
}