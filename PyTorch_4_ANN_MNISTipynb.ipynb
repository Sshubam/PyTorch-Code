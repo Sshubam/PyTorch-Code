{
  "nbformat": 4,
  "nbformat_minor": 0,
  "metadata": {
    "colab": {
      "name": "PyTorch_4_ANN_MNISTipynb",
      "provenance": [],
      "authorship_tag": "ABX9TyPmSS8/7nonl6sXz/rVLOmm",
      "include_colab_link": true
    },
    "kernelspec": {
      "name": "python3",
      "display_name": "Python 3"
    },
    "language_info": {
      "name": "python"
    }
  },
  "cells": [
    {
      "cell_type": "markdown",
      "metadata": {
        "id": "view-in-github",
        "colab_type": "text"
      },
      "source": [
        "<a href=\"https://colab.research.google.com/github/Sshubam/PyTorch-Code/blob/main/PyTorch_4_ANN_MNISTipynb.ipynb\" target=\"_parent\"><img src=\"https://colab.research.google.com/assets/colab-badge.svg\" alt=\"Open In Colab\"/></a>"
      ]
    },
    {
      "cell_type": "code",
      "metadata": {
        "id": "j_4FNiabFjfz"
      },
      "source": [
        "import torch \n",
        "import torch.nn as nn\n",
        "import torchvision\n",
        "import torchvision.transforms as transforms\n",
        "import numpy as np\n",
        "import matplotlib.pyplot as plt"
      ],
      "execution_count": null,
      "outputs": []
    },
    {
      "cell_type": "code",
      "metadata": {
        "id": "YkazJyEkUqvr"
      },
      "source": [
        "train_dataset = torchvision.datasets.MNIST(\n",
        "    root='.',\n",
        "    train=True,\n",
        "    transform=transforms.ToTensor(),\n",
        "    download=True)\n"
      ],
      "execution_count": null,
      "outputs": []
    },
    {
      "cell_type": "code",
      "metadata": {
        "colab": {
          "base_uri": "https://localhost:8080/"
        },
        "id": "lLwjnqTTeSJi",
        "outputId": "be642c56-bb5c-4c63-929c-d3fb8469b3d1"
      },
      "source": [
        " train_dataset.data"
      ],
      "execution_count": null,
      "outputs": [
        {
          "output_type": "execute_result",
          "data": {
            "text/plain": [
              "tensor([[[0, 0, 0,  ..., 0, 0, 0],\n",
              "         [0, 0, 0,  ..., 0, 0, 0],\n",
              "         [0, 0, 0,  ..., 0, 0, 0],\n",
              "         ...,\n",
              "         [0, 0, 0,  ..., 0, 0, 0],\n",
              "         [0, 0, 0,  ..., 0, 0, 0],\n",
              "         [0, 0, 0,  ..., 0, 0, 0]],\n",
              "\n",
              "        [[0, 0, 0,  ..., 0, 0, 0],\n",
              "         [0, 0, 0,  ..., 0, 0, 0],\n",
              "         [0, 0, 0,  ..., 0, 0, 0],\n",
              "         ...,\n",
              "         [0, 0, 0,  ..., 0, 0, 0],\n",
              "         [0, 0, 0,  ..., 0, 0, 0],\n",
              "         [0, 0, 0,  ..., 0, 0, 0]],\n",
              "\n",
              "        [[0, 0, 0,  ..., 0, 0, 0],\n",
              "         [0, 0, 0,  ..., 0, 0, 0],\n",
              "         [0, 0, 0,  ..., 0, 0, 0],\n",
              "         ...,\n",
              "         [0, 0, 0,  ..., 0, 0, 0],\n",
              "         [0, 0, 0,  ..., 0, 0, 0],\n",
              "         [0, 0, 0,  ..., 0, 0, 0]],\n",
              "\n",
              "        ...,\n",
              "\n",
              "        [[0, 0, 0,  ..., 0, 0, 0],\n",
              "         [0, 0, 0,  ..., 0, 0, 0],\n",
              "         [0, 0, 0,  ..., 0, 0, 0],\n",
              "         ...,\n",
              "         [0, 0, 0,  ..., 0, 0, 0],\n",
              "         [0, 0, 0,  ..., 0, 0, 0],\n",
              "         [0, 0, 0,  ..., 0, 0, 0]],\n",
              "\n",
              "        [[0, 0, 0,  ..., 0, 0, 0],\n",
              "         [0, 0, 0,  ..., 0, 0, 0],\n",
              "         [0, 0, 0,  ..., 0, 0, 0],\n",
              "         ...,\n",
              "         [0, 0, 0,  ..., 0, 0, 0],\n",
              "         [0, 0, 0,  ..., 0, 0, 0],\n",
              "         [0, 0, 0,  ..., 0, 0, 0]],\n",
              "\n",
              "        [[0, 0, 0,  ..., 0, 0, 0],\n",
              "         [0, 0, 0,  ..., 0, 0, 0],\n",
              "         [0, 0, 0,  ..., 0, 0, 0],\n",
              "         ...,\n",
              "         [0, 0, 0,  ..., 0, 0, 0],\n",
              "         [0, 0, 0,  ..., 0, 0, 0],\n",
              "         [0, 0, 0,  ..., 0, 0, 0]]], dtype=torch.uint8)"
            ]
          },
          "metadata": {
            "tags": []
          },
          "execution_count": 34
        }
      ]
    },
    {
      "cell_type": "code",
      "metadata": {
        "colab": {
          "base_uri": "https://localhost:8080/"
        },
        "id": "q05qypNIeyWD",
        "outputId": "ab97cb54-31dc-4928-bba6-48c4620e9205"
      },
      "source": [
        "train_dataset.data.max()"
      ],
      "execution_count": null,
      "outputs": [
        {
          "output_type": "execute_result",
          "data": {
            "text/plain": [
              "tensor(255, dtype=torch.uint8)"
            ]
          },
          "metadata": {
            "tags": []
          },
          "execution_count": 35
        }
      ]
    },
    {
      "cell_type": "code",
      "metadata": {
        "colab": {
          "base_uri": "https://localhost:8080/"
        },
        "id": "IR2qqXC1e-IJ",
        "outputId": "ac77920b-029b-408b-be79-6e5cec5c9ea6"
      },
      "source": [
        "train_dataset.data.shape"
      ],
      "execution_count": null,
      "outputs": [
        {
          "output_type": "execute_result",
          "data": {
            "text/plain": [
              "torch.Size([60000, 28, 28])"
            ]
          },
          "metadata": {
            "tags": []
          },
          "execution_count": 36
        }
      ]
    },
    {
      "cell_type": "code",
      "metadata": {
        "colab": {
          "base_uri": "https://localhost:8080/"
        },
        "id": "r5IUfHYIfB6C",
        "outputId": "f36d3a8a-207e-4891-b292-e86061bf54eb"
      },
      "source": [
        "train_dataset.targets"
      ],
      "execution_count": null,
      "outputs": [
        {
          "output_type": "execute_result",
          "data": {
            "text/plain": [
              "tensor([5, 0, 4,  ..., 5, 6, 8])"
            ]
          },
          "metadata": {
            "tags": []
          },
          "execution_count": 37
        }
      ]
    },
    {
      "cell_type": "code",
      "metadata": {
        "colab": {
          "base_uri": "https://localhost:8080/"
        },
        "id": "miBQlB0QfafB",
        "outputId": "73a8fa3e-a8fa-416c-dc4c-12b879904ca1"
      },
      "source": [
        "test_dataset = torchvision.datasets.MNIST(\n",
        "    root='.',\n",
        "    train=False,\n",
        "    transform=transforms.ToTensor(),\n",
        "    download=True\n",
        ")\n",
        "\n",
        "test_dataset.data.shape"
      ],
      "execution_count": null,
      "outputs": [
        {
          "output_type": "execute_result",
          "data": {
            "text/plain": [
              "torch.Size([10000, 28, 28])"
            ]
          },
          "metadata": {
            "tags": []
          },
          "execution_count": 38
        }
      ]
    },
    {
      "cell_type": "code",
      "metadata": {
        "id": "VtaI27ofgg44"
      },
      "source": [
        "model = nn.Sequential(\n",
        "    nn.Linear(784, 128),\n",
        "    nn.ReLU(),\n",
        "    nn.Linear(128, 10)\n",
        ")"
      ],
      "execution_count": null,
      "outputs": []
    },
    {
      "cell_type": "code",
      "metadata": {
        "colab": {
          "base_uri": "https://localhost:8080/"
        },
        "id": "F9jJYt24hB0a",
        "outputId": "9b83edbf-5c7c-43ad-cde2-7db9dd45b387"
      },
      "source": [
        "device = torch.device(\"cuda:0\" if torch.cuda.is_available() else \"cpu\")\n",
        "print(device)\n",
        "model.to(device)"
      ],
      "execution_count": null,
      "outputs": [
        {
          "output_type": "stream",
          "text": [
            "cpu\n"
          ],
          "name": "stdout"
        },
        {
          "output_type": "execute_result",
          "data": {
            "text/plain": [
              "Sequential(\n",
              "  (0): Linear(in_features=784, out_features=128, bias=True)\n",
              "  (1): ReLU()\n",
              "  (2): Linear(in_features=128, out_features=10, bias=True)\n",
              ")"
            ]
          },
          "metadata": {
            "tags": []
          },
          "execution_count": 40
        }
      ]
    },
    {
      "cell_type": "code",
      "metadata": {
        "id": "W-ofoViGhwoE"
      },
      "source": [
        "criterion = nn.CrossEntropyLoss()\n",
        "optimizer = torch.optim.Adam(model.parameters())"
      ],
      "execution_count": null,
      "outputs": []
    },
    {
      "cell_type": "code",
      "metadata": {
        "colab": {
          "base_uri": "https://localhost:8080/"
        },
        "id": "3ZyfzwCTiFHa",
        "outputId": "f96ad691-04b2-4d24-9e5c-f1d7f8e514ab"
      },
      "source": [
        "print({optimizer})"
      ],
      "execution_count": null,
      "outputs": [
        {
          "output_type": "stream",
          "text": [
            "{Adam (\n",
            "Parameter Group 0\n",
            "    amsgrad: False\n",
            "    betas: (0.9, 0.999)\n",
            "    eps: 1e-08\n",
            "    lr: 0.001\n",
            "    weight_decay: 0\n",
            ")}\n"
          ],
          "name": "stdout"
        }
      ]
    },
    {
      "cell_type": "code",
      "metadata": {
        "id": "JpvfllkqiRRi"
      },
      "source": [
        "batch_size = 128\n",
        "\n",
        "train_loader = torch.utils.data.DataLoader(dataset=train_dataset,\n",
        "                                           batch_size=batch_size,\n",
        "                                           shuffle=True)\n",
        "\n",
        "test_loader = torch.utils.data.DataLoader(dataset=test_dataset,\n",
        "                                          batch_size=batch_size,\n",
        "                                          shuffle=False)"
      ],
      "execution_count": null,
      "outputs": []
    },
    {
      "cell_type": "code",
      "metadata": {
        "colab": {
          "base_uri": "https://localhost:8080/"
        },
        "id": "2kNbZDQilzWJ",
        "outputId": "035b16ed-be32-442b-9179-dc9b626f9b9c"
      },
      "source": [
        "#Check out what the data loader does FOR A SINGLE HANDWRITTEN DIGIT\n",
        "#maps the values t0 (0, 1)\n",
        "#makes the data of shape (batch_size, color, height, width)\n",
        "tmp_loader = torch.utils.data.DataLoader(dataset=train_dataset,\n",
        "                                         batch_size=1,\n",
        "                                         shuffle=True)\n",
        "for x, y in tmp_loader:\n",
        "  print(x)\n",
        "  print(\"----------------\")\n",
        "  print(y)\n",
        "  print(\"----------------\")\n",
        "  print(\"x.shape: \",x.shape)\n",
        "  print(\"----------------\")\n",
        "  print(\"y.shape :\", y.shape)\n",
        "  break"
      ],
      "execution_count": null,
      "outputs": [
        {
          "output_type": "stream",
          "text": [
            "tensor([[[[0.0000, 0.0000, 0.0000, 0.0000, 0.0000, 0.0000, 0.0000, 0.0000,\n",
            "           0.0000, 0.0000, 0.0000, 0.0000, 0.0000, 0.0000, 0.0000, 0.0000,\n",
            "           0.0000, 0.0000, 0.0000, 0.0000, 0.0000, 0.0000, 0.0000, 0.0000,\n",
            "           0.0000, 0.0000, 0.0000, 0.0000],\n",
            "          [0.0000, 0.0000, 0.0000, 0.0000, 0.0000, 0.0000, 0.0000, 0.0000,\n",
            "           0.0000, 0.0000, 0.0000, 0.0000, 0.0000, 0.0000, 0.0000, 0.0000,\n",
            "           0.0000, 0.0000, 0.0000, 0.0000, 0.0000, 0.0000, 0.0000, 0.0000,\n",
            "           0.0000, 0.0000, 0.0000, 0.0000],\n",
            "          [0.0000, 0.0000, 0.0000, 0.0000, 0.0000, 0.0000, 0.0000, 0.0000,\n",
            "           0.0000, 0.0000, 0.0000, 0.0000, 0.0000, 0.0000, 0.0000, 0.0000,\n",
            "           0.0000, 0.0000, 0.0000, 0.0000, 0.0000, 0.0000, 0.0000, 0.0000,\n",
            "           0.0000, 0.0000, 0.0000, 0.0000],\n",
            "          [0.0000, 0.0000, 0.0000, 0.0000, 0.0000, 0.0000, 0.0000, 0.0000,\n",
            "           0.0000, 0.0000, 0.0000, 0.0000, 0.0000, 0.0000, 0.0000, 0.0000,\n",
            "           0.0000, 0.0000, 0.0000, 0.0000, 0.0000, 0.0000, 0.0000, 0.0000,\n",
            "           0.0000, 0.0000, 0.0000, 0.0000],\n",
            "          [0.0000, 0.0000, 0.0000, 0.0000, 0.0000, 0.0000, 0.0000, 0.0000,\n",
            "           0.0000, 0.0000, 0.0000, 0.0000, 0.0000, 0.0000, 0.0000, 0.0000,\n",
            "           0.0000, 0.0000, 0.0000, 0.0000, 0.0000, 0.0000, 0.0000, 0.0000,\n",
            "           0.0000, 0.0000, 0.0000, 0.0000],\n",
            "          [0.0000, 0.0000, 0.0000, 0.0000, 0.0000, 0.0000, 0.0000, 0.0000,\n",
            "           0.0000, 0.0000, 0.0000, 0.0000, 0.0000, 0.0000, 0.0000, 0.0000,\n",
            "           0.0000, 0.0000, 0.0000, 0.2471, 0.6902, 0.1059, 0.0000, 0.0000,\n",
            "           0.0000, 0.0000, 0.0000, 0.0000],\n",
            "          [0.0000, 0.0000, 0.0000, 0.0000, 0.0000, 0.0000, 0.0000, 0.0000,\n",
            "           0.0000, 0.0000, 0.0000, 0.2980, 0.2588, 0.0000, 0.0000, 0.0000,\n",
            "           0.0000, 0.0000, 0.1020, 0.9412, 0.9922, 0.1059, 0.0000, 0.0000,\n",
            "           0.0000, 0.0000, 0.0000, 0.0000],\n",
            "          [0.0000, 0.0000, 0.0000, 0.0000, 0.0000, 0.0000, 0.0000, 0.0000,\n",
            "           0.0000, 0.0000, 0.0000, 0.8824, 0.9373, 0.2588, 0.0000, 0.0000,\n",
            "           0.0000, 0.0510, 0.6118, 0.9882, 0.9922, 0.1059, 0.0000, 0.0000,\n",
            "           0.0000, 0.0000, 0.0000, 0.0000],\n",
            "          [0.0000, 0.0000, 0.0000, 0.0000, 0.0000, 0.0000, 0.0000, 0.0000,\n",
            "           0.0000, 0.0000, 0.0000, 0.8824, 0.9882, 0.6941, 0.0000, 0.0000,\n",
            "           0.0000, 0.2235, 0.9882, 0.9882, 0.6980, 0.0353, 0.0000, 0.0000,\n",
            "           0.0000, 0.0000, 0.0000, 0.0000],\n",
            "          [0.0000, 0.0000, 0.0000, 0.0000, 0.0000, 0.0000, 0.0000, 0.0000,\n",
            "           0.0000, 0.0000, 0.0000, 0.8824, 0.9882, 0.8745, 0.0000, 0.0000,\n",
            "           0.0000, 0.5294, 0.9882, 0.9882, 0.2471, 0.0000, 0.0000, 0.0000,\n",
            "           0.0000, 0.0000, 0.0000, 0.0000],\n",
            "          [0.0000, 0.0000, 0.0000, 0.0000, 0.0000, 0.0000, 0.0000, 0.0000,\n",
            "           0.0000, 0.0000, 0.0000, 0.8863, 0.9922, 0.8824, 0.0000, 0.0000,\n",
            "           0.1490, 0.8706, 0.9922, 0.7451, 0.0000, 0.0000, 0.0000, 0.0000,\n",
            "           0.0000, 0.0000, 0.0000, 0.0000],\n",
            "          [0.0000, 0.0000, 0.0000, 0.0000, 0.0000, 0.0000, 0.0000, 0.0000,\n",
            "           0.0000, 0.0000, 0.3961, 0.9765, 0.9882, 0.6902, 0.0000, 0.0000,\n",
            "           0.8235, 0.9882, 0.9882, 0.4392, 0.0000, 0.0000, 0.0000, 0.0000,\n",
            "           0.0000, 0.0000, 0.0000, 0.0000],\n",
            "          [0.0000, 0.0000, 0.0000, 0.0000, 0.0000, 0.0000, 0.0000, 0.0000,\n",
            "           0.0000, 0.0000, 0.8706, 0.9882, 0.9373, 0.2549, 0.0000, 0.1020,\n",
            "           0.9059, 0.9882, 0.9255, 0.3176, 0.1255, 0.0000, 0.0000, 0.0000,\n",
            "           0.0000, 0.0000, 0.0000, 0.0000],\n",
            "          [0.0000, 0.0000, 0.0000, 0.0000, 0.0000, 0.0000, 0.0000, 0.0000,\n",
            "           0.0000, 0.3725, 0.9922, 0.9882, 0.7922, 0.1137, 0.4196, 0.8118,\n",
            "           0.9882, 0.9882, 0.9882, 0.9882, 0.7961, 0.0588, 0.0000, 0.0000,\n",
            "           0.0000, 0.0000, 0.0000, 0.0000],\n",
            "          [0.0000, 0.0000, 0.0000, 0.0000, 0.0000, 0.0000, 0.0000, 0.0000,\n",
            "           0.0627, 0.7961, 0.9922, 0.9882, 0.9882, 0.9882, 0.9882, 0.9922,\n",
            "           0.9882, 0.9882, 0.9882, 0.9882, 0.2471, 0.0000, 0.0000, 0.0000,\n",
            "           0.0000, 0.0000, 0.0000, 0.0000],\n",
            "          [0.0000, 0.0000, 0.0000, 0.0000, 0.0000, 0.0000, 0.0000, 0.0000,\n",
            "           0.3608, 0.9922, 1.0000, 0.9922, 0.9922, 0.9922, 0.9922, 1.0000,\n",
            "           0.9922, 0.7686, 0.0000, 0.0000, 0.0000, 0.0000, 0.0000, 0.0000,\n",
            "           0.0000, 0.0000, 0.0000, 0.0000],\n",
            "          [0.0000, 0.0000, 0.0000, 0.0000, 0.0000, 0.0000, 0.0000, 0.0000,\n",
            "           0.6627, 0.9882, 0.9922, 0.8745, 0.6549, 0.6549, 0.8392, 0.9922,\n",
            "           0.9882, 0.5804, 0.0000, 0.0000, 0.0000, 0.0000, 0.0000, 0.0000,\n",
            "           0.0000, 0.0000, 0.0000, 0.0000],\n",
            "          [0.0000, 0.0000, 0.0000, 0.0000, 0.0000, 0.0000, 0.0000, 0.0000,\n",
            "           0.5137, 0.8902, 0.7686, 0.2039, 0.0000, 0.0000, 0.5490, 0.9922,\n",
            "           0.9882, 0.2157, 0.0000, 0.0000, 0.0000, 0.0000, 0.0000, 0.0000,\n",
            "           0.0000, 0.0000, 0.0000, 0.0000],\n",
            "          [0.0000, 0.0000, 0.0000, 0.0000, 0.0000, 0.0000, 0.0000, 0.0000,\n",
            "           0.0000, 0.1843, 0.0000, 0.0000, 0.0000, 0.0157, 0.6000, 0.9922,\n",
            "           0.9490, 0.1922, 0.0000, 0.0000, 0.0000, 0.0000, 0.0000, 0.0000,\n",
            "           0.0000, 0.0000, 0.0000, 0.0000],\n",
            "          [0.0000, 0.0000, 0.0000, 0.0000, 0.0000, 0.0000, 0.0000, 0.0000,\n",
            "           0.0000, 0.0000, 0.0000, 0.0000, 0.0000, 0.1137, 0.9882, 0.9922,\n",
            "           0.6549, 0.0000, 0.0000, 0.0000, 0.0000, 0.0000, 0.0000, 0.0000,\n",
            "           0.0000, 0.0000, 0.0000, 0.0000],\n",
            "          [0.0000, 0.0000, 0.0000, 0.0000, 0.0000, 0.0000, 0.0000, 0.0000,\n",
            "           0.0000, 0.0000, 0.0000, 0.0000, 0.0000, 0.3608, 0.9922, 1.0000,\n",
            "           0.4157, 0.0000, 0.0000, 0.0000, 0.0000, 0.0000, 0.0000, 0.0000,\n",
            "           0.0000, 0.0000, 0.0000, 0.0000],\n",
            "          [0.0000, 0.0000, 0.0000, 0.0000, 0.0000, 0.0000, 0.0000, 0.0000,\n",
            "           0.0000, 0.0000, 0.0000, 0.0000, 0.0745, 0.7686, 0.9882, 0.9922,\n",
            "           0.1059, 0.0000, 0.0000, 0.0000, 0.0000, 0.0000, 0.0000, 0.0000,\n",
            "           0.0000, 0.0000, 0.0000, 0.0000],\n",
            "          [0.0000, 0.0000, 0.0000, 0.0000, 0.0000, 0.0000, 0.0000, 0.0000,\n",
            "           0.0000, 0.0000, 0.0000, 0.0000, 0.2235, 0.9882, 0.9882, 0.8941,\n",
            "           0.0824, 0.0000, 0.0000, 0.0000, 0.0000, 0.0000, 0.0000, 0.0000,\n",
            "           0.0000, 0.0000, 0.0000, 0.0000],\n",
            "          [0.0000, 0.0000, 0.0000, 0.0000, 0.0000, 0.0000, 0.0000, 0.0000,\n",
            "           0.0000, 0.0000, 0.0000, 0.0000, 0.2235, 0.9882, 0.9882, 0.4941,\n",
            "           0.0000, 0.0000, 0.0000, 0.0000, 0.0000, 0.0000, 0.0000, 0.0000,\n",
            "           0.0000, 0.0000, 0.0000, 0.0000],\n",
            "          [0.0000, 0.0000, 0.0000, 0.0000, 0.0000, 0.0000, 0.0000, 0.0000,\n",
            "           0.0000, 0.0000, 0.0000, 0.0000, 0.2235, 0.9882, 0.6784, 0.0000,\n",
            "           0.0000, 0.0000, 0.0000, 0.0000, 0.0000, 0.0000, 0.0000, 0.0000,\n",
            "           0.0000, 0.0000, 0.0000, 0.0000],\n",
            "          [0.0000, 0.0000, 0.0000, 0.0000, 0.0000, 0.0000, 0.0000, 0.0000,\n",
            "           0.0000, 0.0000, 0.0000, 0.0000, 0.0000, 0.0000, 0.0000, 0.0000,\n",
            "           0.0000, 0.0000, 0.0000, 0.0000, 0.0000, 0.0000, 0.0000, 0.0000,\n",
            "           0.0000, 0.0000, 0.0000, 0.0000],\n",
            "          [0.0000, 0.0000, 0.0000, 0.0000, 0.0000, 0.0000, 0.0000, 0.0000,\n",
            "           0.0000, 0.0000, 0.0000, 0.0000, 0.0000, 0.0000, 0.0000, 0.0000,\n",
            "           0.0000, 0.0000, 0.0000, 0.0000, 0.0000, 0.0000, 0.0000, 0.0000,\n",
            "           0.0000, 0.0000, 0.0000, 0.0000],\n",
            "          [0.0000, 0.0000, 0.0000, 0.0000, 0.0000, 0.0000, 0.0000, 0.0000,\n",
            "           0.0000, 0.0000, 0.0000, 0.0000, 0.0000, 0.0000, 0.0000, 0.0000,\n",
            "           0.0000, 0.0000, 0.0000, 0.0000, 0.0000, 0.0000, 0.0000, 0.0000,\n",
            "           0.0000, 0.0000, 0.0000, 0.0000]]]])\n",
            "----------------\n",
            "tensor([4])\n",
            "----------------\n",
            "x.shape:  torch.Size([1, 1, 28, 28])\n",
            "----------------\n",
            "y.shape : torch.Size([1])\n"
          ],
          "name": "stdout"
        }
      ]
    },
    {
      "cell_type": "code",
      "metadata": {
        "colab": {
          "base_uri": "https://localhost:8080/"
        },
        "id": "whOm0IV5oo7d",
        "outputId": "a120193a-fdf5-4f14-97ae-141b12721db5"
      },
      "source": [
        "train_dataset.transform(train_dataset.data .numpy()).max()"
      ],
      "execution_count": null,
      "outputs": [
        {
          "output_type": "execute_result",
          "data": {
            "text/plain": [
              "tensor(1.)"
            ]
          },
          "metadata": {
            "tags": []
          },
          "execution_count": 45
        }
      ]
    },
    {
      "cell_type": "code",
      "metadata": {
        "colab": {
          "base_uri": "https://localhost:8080/"
        },
        "id": "TG0vrXtouIu8",
        "outputId": "bd69e38e-3750-450b-a3bc-9d058690afbb"
      },
      "source": [
        " n_epochs = 10\n",
        "\n",
        " train_losses = np.zeros(n_epochs)\n",
        " test_losses = np.zeros(n_epochs)\n",
        "\n",
        " for it in range(n_epochs):\n",
        "    train_loss=[]\n",
        "    for inputs, targets in train_loader:\n",
        "     inputs, targets = inputs.to(device), targets.to(device)\n",
        "\n",
        "     inputs = inputs.view(-1, 784)\n",
        "\n",
        "     optimizer.zero_grad()\n",
        "\n",
        "     outputs = model(inputs)\n",
        "     loss = criterion(outputs, targets)\n",
        "\n",
        "     loss.backward()\n",
        "     optimizer.step()\n",
        "\n",
        "     train_loss.append(loss.item())\n",
        "    train_loss = np.mean(train_loss)\n",
        "\n",
        "    test_loss=[]\n",
        "    for inputs, targets in test_loader:\n",
        "      inputs, targets = inputs.to(device), targets.to(device)\n",
        "      inputs = inputs.view(-1, 784)\n",
        "      outputs = model(inputs)\n",
        "      loss = criterion(outputs, targets)\n",
        "      test_loss.append(loss.item())\n",
        "    test_loss = np.mean(test_loss)  \n",
        "\n",
        "    train_losses[it] = train_loss\n",
        "    test_losses[it] = test_loss\n",
        "\n",
        "    print(f\"Epoch {it+1}/{n_epochs}, Train Loss: {train_loss:.4f}, Test Loss: {test_loss:.4f}\")"
      ],
      "execution_count": null,
      "outputs": [
        {
          "output_type": "stream",
          "text": [
            "Epoch 1/10, Train Loss: 0.1989, Test Loss: 0.1625\n",
            "Epoch 2/10, Train Loss: 0.1467, Test Loss: 0.1289\n",
            "Epoch 3/10, Train Loss: 0.1133, Test Loss: 0.1077\n",
            "Epoch 4/10, Train Loss: 0.0913, Test Loss: 0.0964\n",
            "Epoch 5/10, Train Loss: 0.0760, Test Loss: 0.0871\n",
            "Epoch 6/10, Train Loss: 0.0624, Test Loss: 0.0910\n",
            "Epoch 7/10, Train Loss: 0.0537, Test Loss: 0.0758\n",
            "Epoch 8/10, Train Loss: 0.0458, Test Loss: 0.0746\n",
            "Epoch 9/10, Train Loss: 0.0393, Test Loss: 0.0766\n",
            "Epoch 10/10, Train Loss: 0.0338, Test Loss: 0.0693\n"
          ],
          "name": "stdout"
        }
      ]
    },
    {
      "cell_type": "code",
      "metadata": {
        "colab": {
          "base_uri": "https://localhost:8080/",
          "height": 265
        },
        "id": "tvpQhDS1Ql5_",
        "outputId": "798f0547-eb36-4867-9e00-aea533aa30c2"
      },
      "source": [
        "plt.plot(train_losses, label=\"Train Loss\")\n",
        "plt.plot(test_losses, label=\"Test Loss\")\n",
        "plt.legend()\n",
        "plt.show()"
      ],
      "execution_count": null,
      "outputs": [
        {
          "output_type": "display_data",
          "data": {
            "image/png": "[encoded data removed]",
            "text/plain": [
              "<Figure size 432x288 with 1 Axes>"
            ]
          },
          "metadata": {
            "tags": [],
            "needs_background": "light"
          }
        }
      ]
    },
    {
      "cell_type": "code",
      "metadata": {
        "colab": {
          "base_uri": "https://localhost:8080/"
        },
        "id": "n1KqwaF4SaJT",
        "outputId": "484a4923-065d-44ab-843b-09d09fcc0ea1"
      },
      "source": [
        "outputs"
      ],
      "execution_count": null,
      "outputs": [
        {
          "output_type": "execute_result",
          "data": {
            "text/plain": [
              "tensor([[-10.8161,   6.8822,  -5.7424,  -3.3297,  -8.0458, -12.1490,  -9.5574,\n",
              "           0.2904,  -3.8794,  -5.9839],\n",
              "        [-10.3863,  -0.5250,   9.1841,   1.9733, -30.2766, -13.6487, -19.0911,\n",
              "          -1.9891,  -1.7097, -11.7066],\n",
              "        [-11.6228,  -5.3615,  -5.5887,   7.8397, -25.9585,  -4.9489, -23.0751,\n",
              "         -10.4264,  -2.0105,  -3.0270],\n",
              "        [-15.5437,  -8.6636, -11.3000,  -8.0423,  12.1761,  -5.7546,  -9.9191,\n",
              "          -8.4306,  -4.1020,  -0.1356],\n",
              "        [-10.2798, -11.9416, -15.5236,  -0.6454, -13.1955,  14.5348, -20.0548,\n",
              "         -18.6453,   0.9563,  -4.5691],\n",
              "        [ -2.5998,  -9.8242,   0.3442,  -5.8546,  -4.7379,  -4.3079,  15.9287,\n",
              "         -21.9496,  -5.2512, -12.9558],\n",
              "        [ -8.0544,  -4.8199,  -1.2016,   2.2574, -19.9954, -14.4563, -25.1323,\n",
              "          12.0269,  -6.0787,  -4.3855],\n",
              "        [ -1.3772, -11.6614,  -4.5374,   0.4474, -22.9442,  -2.5099, -12.9324,\n",
              "         -10.6748,  10.4015,  -6.2873],\n",
              "        [ -8.8144, -14.4261,  -7.3523,  -6.9829,   3.1671,  -7.2023,  -8.3326,\n",
              "          -5.8420,  -4.4937,   7.4744],\n",
              "        [ 15.1495, -19.8687,  -3.9765,  -6.8745, -19.1040,  -1.8887,  -0.5596,\n",
              "         -19.7309,   5.3110,  -3.0517],\n",
              "        [ -9.8651,   6.0796,  -2.7533,  -9.5832,  -6.3723,  -8.7990,  -5.5152,\n",
              "          -3.4837,  -2.2410,  -8.9012],\n",
              "        [ -8.5720,  -0.6236,  14.8426,   6.9608, -34.5795, -11.1883, -23.5252,\n",
              "          -6.4380,   0.6730, -13.0968],\n",
              "        [-10.2582,  -5.8018,  -3.4444,  10.4675, -28.7233,   2.5334, -21.1075,\n",
              "         -11.1558,  -4.8823,  -1.9344],\n",
              "        [-12.5080, -10.4635, -13.1471,  -7.0482,  10.4160,  -9.1288, -10.6456,\n",
              "          -2.1912,  -3.2354,   1.4402],\n",
              "        [ -7.7830,  -7.9234, -12.1101,  -4.1122,  -9.5426,  12.1157,  -6.5365,\n",
              "          -9.0170,   3.3918,  -9.3070],\n",
              "        [ -1.4204, -12.3296,  -2.5600,  -6.8801,  -2.1306,  -2.1387,  14.6763,\n",
              "         -19.8328,  -7.9449,  -8.5453]], grad_fn=<AddmmBackward>)"
            ]
          },
          "metadata": {
            "tags": []
          },
          "execution_count": 74
        }
      ]
    },
    {
      "cell_type": "code",
      "metadata": {
        "colab": {
          "base_uri": "https://localhost:8080/"
        },
        "id": "G5iq1r1zS8JC",
        "outputId": "24c38af1-6c71-422a-f976-09b156521634"
      },
      "source": [
        "targets"
      ],
      "execution_count": null,
      "outputs": [
        {
          "output_type": "execute_result",
          "data": {
            "text/plain": [
              "tensor([1, 2, 3, 4, 5, 6, 7, 8, 9, 0, 1, 2, 3, 4, 5, 6])"
            ]
          },
          "metadata": {
            "tags": []
          },
          "execution_count": 76
        }
      ]
    },
    {
      "cell_type": "code",
      "metadata": {
        "colab": {
          "base_uri": "https://localhost:8080/"
        },
        "id": "HEA5uT3OTAxS",
        "outputId": "27e0c7e7-e9cb-40f5-aec1-cc73ecef34a9"
      },
      "source": [
        "targets.shape"
      ],
      "execution_count": null,
      "outputs": [
        {
          "output_type": "execute_result",
          "data": {
            "text/plain": [
              "torch.Size([16])"
            ]
          },
          "metadata": {
            "tags": []
          },
          "execution_count": 77
        }
      ]
    },
    {
      "cell_type": "code",
      "metadata": {
        "colab": {
          "base_uri": "https://localhost:8080/"
        },
        "id": "I6Ce3dGTS4Jh",
        "outputId": "fd8550a7-13af-4cad-e3ef-af00ad1be7cc"
      },
      "source": [
        "targets.shape[0]"
      ],
      "execution_count": null,
      "outputs": [
        {
          "output_type": "execute_result",
          "data": {
            "text/plain": [
              "16"
            ]
          },
          "metadata": {
            "tags": []
          },
          "execution_count": 75
        }
      ]
    },
    {
      "cell_type": "code",
      "metadata": {
        "colab": {
          "base_uri": "https://localhost:8080/"
        },
        "id": "ydRwRk7dTW9C",
        "outputId": "2a90e9b8-c521-4072-a5fc-2eb8a0100c23"
      },
      "source": [
        "inputs"
      ],
      "execution_count": null,
      "outputs": [
        {
          "output_type": "execute_result",
          "data": {
            "text/plain": [
              "tensor([[0., 0., 0.,  ..., 0., 0., 0.],\n",
              "        [0., 0., 0.,  ..., 0., 0., 0.],\n",
              "        [0., 0., 0.,  ..., 0., 0., 0.],\n",
              "        ...,\n",
              "        [0., 0., 0.,  ..., 0., 0., 0.],\n",
              "        [0., 0., 0.,  ..., 0., 0., 0.],\n",
              "        [0., 0., 0.,  ..., 0., 0., 0.]])"
            ]
          },
          "metadata": {
            "tags": []
          },
          "execution_count": 78
        }
      ]
    },
    {
      "cell_type": "code",
      "metadata": {
        "colab": {
          "base_uri": "https://localhost:8080/"
        },
        "id": "teEjPDhLRDiI",
        "outputId": "55cfe57e-a81f-4afb-f049-3e48ffb12a15"
      },
      "source": [
        "n_correct = 0\n",
        "n_total = 0\n",
        "for inputs, targets in train_loader:\n",
        "  inputs, targets = inputs.to(device), targets.to(device)\n",
        "  inputs = inputs.view(-1, 784)\n",
        "  outputs = model(inputs)\n",
        "  _, predictions = torch.max(outputs, 1)\n",
        "  n_correct += (predictions == targets).sum().item()\n",
        "  n_total += targets.shape[0]\n",
        "train_acc = n_correct / n_total\n",
        "\n",
        "for inputs, targets in test_loader:\n",
        "  inputs, targets = inputs.to(device), targets.to(device)\n",
        "  inputs = inputs.view(-1, 784)\n",
        "  outputs = model(inputs)\n",
        "  _, predictions = torch.max(outputs, 1)\n",
        "  n_correct += (predictions == targets).sum().item()\n",
        "  n_total += targets.shape[0]\n",
        "test_acc = n_correct / n_total\n",
        "\n",
        "print(f\"Train acc: {train_acc:.4f} Test acc: {test_acc:.4f}\")"
      ],
      "execution_count": null,
      "outputs": [
        {
          "output_type": "stream",
          "text": [
            "Train acc: 0.9942 Test acc: 0.9919\n"
          ],
          "name": "stdout"
        }
      ]
    },
    {
      "cell_type": "code",
      "metadata": {
        "colab": {
          "base_uri": "https://localhost:8080/"
        },
        "id": "R2HqTnjLjJvm",
        "outputId": "afe62b62-8a1f-4dae-c14e-cb69fc8827e4"
      },
      "source": [
        "outputs"
      ],
      "execution_count": null,
      "outputs": [
        {
          "output_type": "execute_result",
          "data": {
            "text/plain": [
              "tensor([[-10.8161,   6.8822,  -5.7424,  -3.3297,  -8.0458, -12.1490,  -9.5574,\n",
              "           0.2904,  -3.8794,  -5.9839],\n",
              "        [-10.3863,  -0.5250,   9.1841,   1.9733, -30.2766, -13.6487, -19.0911,\n",
              "          -1.9891,  -1.7097, -11.7066],\n",
              "        [-11.6228,  -5.3615,  -5.5887,   7.8397, -25.9585,  -4.9489, -23.0751,\n",
              "         -10.4264,  -2.0105,  -3.0270],\n",
              "        [-15.5437,  -8.6636, -11.3000,  -8.0423,  12.1761,  -5.7546,  -9.9191,\n",
              "          -8.4306,  -4.1020,  -0.1356],\n",
              "        [-10.2798, -11.9416, -15.5236,  -0.6454, -13.1955,  14.5348, -20.0548,\n",
              "         -18.6453,   0.9563,  -4.5691],\n",
              "        [ -2.5998,  -9.8242,   0.3442,  -5.8546,  -4.7379,  -4.3079,  15.9287,\n",
              "         -21.9496,  -5.2512, -12.9558],\n",
              "        [ -8.0544,  -4.8199,  -1.2016,   2.2574, -19.9954, -14.4563, -25.1323,\n",
              "          12.0269,  -6.0787,  -4.3855],\n",
              "        [ -1.3772, -11.6614,  -4.5374,   0.4474, -22.9442,  -2.5099, -12.9324,\n",
              "         -10.6748,  10.4015,  -6.2873],\n",
              "        [ -8.8144, -14.4261,  -7.3523,  -6.9829,   3.1671,  -7.2023,  -8.3326,\n",
              "          -5.8420,  -4.4937,   7.4744],\n",
              "        [ 15.1495, -19.8687,  -3.9765,  -6.8745, -19.1040,  -1.8887,  -0.5596,\n",
              "         -19.7309,   5.3110,  -3.0517],\n",
              "        [ -9.8651,   6.0796,  -2.7533,  -9.5832,  -6.3723,  -8.7990,  -5.5152,\n",
              "          -3.4837,  -2.2410,  -8.9012],\n",
              "        [ -8.5720,  -0.6236,  14.8426,   6.9608, -34.5795, -11.1883, -23.5252,\n",
              "          -6.4380,   0.6730, -13.0968],\n",
              "        [-10.2582,  -5.8018,  -3.4444,  10.4675, -28.7233,   2.5334, -21.1075,\n",
              "         -11.1558,  -4.8823,  -1.9344],\n",
              "        [-12.5080, -10.4635, -13.1471,  -7.0482,  10.4160,  -9.1288, -10.6456,\n",
              "          -2.1912,  -3.2354,   1.4402],\n",
              "        [ -7.7830,  -7.9234, -12.1101,  -4.1122,  -9.5426,  12.1157,  -6.5365,\n",
              "          -9.0170,   3.3918,  -9.3070],\n",
              "        [ -1.4204, -12.3296,  -2.5600,  -6.8801,  -2.1306,  -2.1387,  14.6763,\n",
              "         -19.8328,  -7.9449,  -8.5453]], grad_fn=<AddmmBackward>)"
            ]
          },
          "metadata": {
            "tags": []
          },
          "execution_count": 92
        }
      ]
    },
    {
      "cell_type": "code",
      "metadata": {
        "colab": {
          "base_uri": "https://localhost:8080/"
        },
        "id": "geCAyLWwkjVa",
        "outputId": "fbc6857c-817d-4d03-f0a3-06cd8b08662f"
      },
      "source": [
        "(outputs, 1)"
      ],
      "execution_count": null,
      "outputs": [
        {
          "output_type": "execute_result",
          "data": {
            "text/plain": [
              "(tensor([[-10.8161,   6.8822,  -5.7424,  -3.3297,  -8.0458, -12.1490,  -9.5574,\n",
              "            0.2904,  -3.8794,  -5.9839],\n",
              "         [-10.3863,  -0.5250,   9.1841,   1.9733, -30.2766, -13.6487, -19.0911,\n",
              "           -1.9891,  -1.7097, -11.7066],\n",
              "         [-11.6228,  -5.3615,  -5.5887,   7.8397, -25.9585,  -4.9489, -23.0751,\n",
              "          -10.4264,  -2.0105,  -3.0270],\n",
              "         [-15.5437,  -8.6636, -11.3000,  -8.0423,  12.1761,  -5.7546,  -9.9191,\n",
              "           -8.4306,  -4.1020,  -0.1356],\n",
              "         [-10.2798, -11.9416, -15.5236,  -0.6454, -13.1955,  14.5348, -20.0548,\n",
              "          -18.6453,   0.9563,  -4.5691],\n",
              "         [ -2.5998,  -9.8242,   0.3442,  -5.8546,  -4.7379,  -4.3079,  15.9287,\n",
              "          -21.9496,  -5.2512, -12.9558],\n",
              "         [ -8.0544,  -4.8199,  -1.2016,   2.2574, -19.9954, -14.4563, -25.1323,\n",
              "           12.0269,  -6.0787,  -4.3855],\n",
              "         [ -1.3772, -11.6614,  -4.5374,   0.4474, -22.9442,  -2.5099, -12.9324,\n",
              "          -10.6748,  10.4015,  -6.2873],\n",
              "         [ -8.8144, -14.4261,  -7.3523,  -6.9829,   3.1671,  -7.2023,  -8.3326,\n",
              "           -5.8420,  -4.4937,   7.4744],\n",
              "         [ 15.1495, -19.8687,  -3.9765,  -6.8745, -19.1040,  -1.8887,  -0.5596,\n",
              "          -19.7309,   5.3110,  -3.0517],\n",
              "         [ -9.8651,   6.0796,  -2.7533,  -9.5832,  -6.3723,  -8.7990,  -5.5152,\n",
              "           -3.4837,  -2.2410,  -8.9012],\n",
              "         [ -8.5720,  -0.6236,  14.8426,   6.9608, -34.5795, -11.1883, -23.5252,\n",
              "           -6.4380,   0.6730, -13.0968],\n",
              "         [-10.2582,  -5.8018,  -3.4444,  10.4675, -28.7233,   2.5334, -21.1075,\n",
              "          -11.1558,  -4.8823,  -1.9344],\n",
              "         [-12.5080, -10.4635, -13.1471,  -7.0482,  10.4160,  -9.1288, -10.6456,\n",
              "           -2.1912,  -3.2354,   1.4402],\n",
              "         [ -7.7830,  -7.9234, -12.1101,  -4.1122,  -9.5426,  12.1157,  -6.5365,\n",
              "           -9.0170,   3.3918,  -9.3070],\n",
              "         [ -1.4204, -12.3296,  -2.5600,  -6.8801,  -2.1306,  -2.1387,  14.6763,\n",
              "          -19.8328,  -7.9449,  -8.5453]], grad_fn=<AddmmBackward>), 1)"
            ]
          },
          "metadata": {
            "tags": []
          },
          "execution_count": 93
        }
      ]
    },
    {
      "cell_type": "code",
      "metadata": {
        "colab": {
          "base_uri": "https://localhost:8080/"
        },
        "id": "jSbZ3t7ISKzK",
        "outputId": "72862846-d4f8-40e9-a262-d8f6eb7a3834"
      },
      "source": [
        "_, predictions = torch.max(outputs, 1)\n",
        "_, predictions"
      ],
      "execution_count": null,
      "outputs": [
        {
          "output_type": "execute_result",
          "data": {
            "text/plain": [
              "(tensor([ 6.8822,  9.1841,  7.8397, 12.1761, 14.5348, 15.9287, 12.0269, 10.4015,\n",
              "          7.4744, 15.1495,  6.0796, 14.8426, 10.4675, 10.4160, 12.1157, 14.6763],\n",
              "        grad_fn=<MaxBackward0>),\n",
              " tensor([1, 2, 3, 4, 5, 6, 7, 8, 9, 0, 1, 2, 3, 4, 5, 6]))"
            ]
          },
          "metadata": {
            "tags": []
          },
          "execution_count": 98
        }
      ]
    },
    {
      "cell_type": "code",
      "metadata": {
        "id": "bn3bLcyofsYN"
      },
      "source": [
        "# Plot confusion matrix\n",
        "from sklearn.metrics import confusion_matrix\n",
        "import numpy as np\n",
        "import itertools\n",
        "\n",
        "def plot_confusion_matrix(cm, classes,\n",
        "                          normalize=False,\n",
        "                          title='Confusion matrix',\n",
        "                          cmap=plt.cm.Blues):\n",
        "  \"\"\"\n",
        "  This function prints and plots the confusion matrix.\n",
        "  Normalization can be applied by setting `normalize=True`.\n",
        "  \"\"\"\n",
        "  if normalize:\n",
        "      cm = cm.astype('float') / cm.sum(axis=1)[:, np.newaxis]\n",
        "      print(\"Normalized confusion matrix\")\n",
        "  else:\n",
        "      print('Confusion matrix, without normalization')\n",
        "\n",
        "  print(cm)\n",
        "\n",
        "  plt.imshow(cm, interpolation='nearest', cmap=cmap)\n",
        "  plt.title(title)\n",
        "  plt.colorbar()\n",
        "  tick_marks = np.arange(len(classes))\n",
        "  plt.xticks(tick_marks, classes, rotation=45)\n",
        "  plt.yticks(tick_marks, classes)\n",
        "\n",
        "  fmt = '.2f' if normalize else 'd'\n",
        "  thresh = cm.max() / 2.\n",
        "  for i, j in itertools.product(range(cm.shape[0]), range(cm.shape[1])):\n",
        "      plt.text(j, i, format(cm[i, j], fmt),\n",
        "               horizontalalignment=\"center\",\n",
        "               color=\"white\" if cm[i, j] > thresh else \"black\")\n",
        "\n",
        "  plt.tight_layout()\n",
        "  plt.ylabel('True label')\n",
        "  plt.xlabel('Predicted label')\n",
        "  plt.show()\n",
        "\n",
        "# Do these results make sense?\n",
        "# It's easy to confuse 9 <--> 4, 9 <--> 7, 2 <--> 7, etc. "
      ],
      "execution_count": null,
      "outputs": []
    },
    {
      "cell_type": "code",
      "metadata": {
        "colab": {
          "base_uri": "https://localhost:8080/"
        },
        "id": "RvTqzulYgTcr",
        "outputId": "144a95b5-3515-4031-e6a2-9ef10a9ccdcb"
      },
      "source": [
        "outputs"
      ],
      "execution_count": null,
      "outputs": [
        {
          "output_type": "execute_result",
          "data": {
            "text/plain": [
              "tensor([[-10.8161,   6.8822,  -5.7424,  -3.3297,  -8.0458, -12.1490,  -9.5574,\n",
              "           0.2904,  -3.8794,  -5.9839],\n",
              "        [-10.3863,  -0.5250,   9.1841,   1.9733, -30.2766, -13.6487, -19.0911,\n",
              "          -1.9891,  -1.7097, -11.7066],\n",
              "        [-11.6228,  -5.3615,  -5.5887,   7.8397, -25.9585,  -4.9489, -23.0751,\n",
              "         -10.4264,  -2.0105,  -3.0270],\n",
              "        [-15.5437,  -8.6636, -11.3000,  -8.0423,  12.1761,  -5.7546,  -9.9191,\n",
              "          -8.4306,  -4.1020,  -0.1356],\n",
              "        [-10.2798, -11.9416, -15.5236,  -0.6454, -13.1955,  14.5348, -20.0548,\n",
              "         -18.6453,   0.9563,  -4.5691],\n",
              "        [ -2.5998,  -9.8242,   0.3442,  -5.8546,  -4.7379,  -4.3079,  15.9287,\n",
              "         -21.9496,  -5.2512, -12.9558],\n",
              "        [ -8.0544,  -4.8199,  -1.2016,   2.2574, -19.9954, -14.4563, -25.1323,\n",
              "          12.0269,  -6.0787,  -4.3855],\n",
              "        [ -1.3772, -11.6614,  -4.5374,   0.4474, -22.9442,  -2.5099, -12.9324,\n",
              "         -10.6748,  10.4015,  -6.2873],\n",
              "        [ -8.8144, -14.4261,  -7.3523,  -6.9829,   3.1671,  -7.2023,  -8.3326,\n",
              "          -5.8420,  -4.4937,   7.4744],\n",
              "        [ 15.1495, -19.8687,  -3.9765,  -6.8745, -19.1040,  -1.8887,  -0.5596,\n",
              "         -19.7309,   5.3110,  -3.0517],\n",
              "        [ -9.8651,   6.0796,  -2.7533,  -9.5832,  -6.3723,  -8.7990,  -5.5152,\n",
              "          -3.4837,  -2.2410,  -8.9012],\n",
              "        [ -8.5720,  -0.6236,  14.8426,   6.9608, -34.5795, -11.1883, -23.5252,\n",
              "          -6.4380,   0.6730, -13.0968],\n",
              "        [-10.2582,  -5.8018,  -3.4444,  10.4675, -28.7233,   2.5334, -21.1075,\n",
              "         -11.1558,  -4.8823,  -1.9344],\n",
              "        [-12.5080, -10.4635, -13.1471,  -7.0482,  10.4160,  -9.1288, -10.6456,\n",
              "          -2.1912,  -3.2354,   1.4402],\n",
              "        [ -7.7830,  -7.9234, -12.1101,  -4.1122,  -9.5426,  12.1157,  -6.5365,\n",
              "          -9.0170,   3.3918,  -9.3070],\n",
              "        [ -1.4204, -12.3296,  -2.5600,  -6.8801,  -2.1306,  -2.1387,  14.6763,\n",
              "         -19.8328,  -7.9449,  -8.5453]], grad_fn=<AddmmBackward>)"
            ]
          },
          "metadata": {
            "tags": []
          },
          "execution_count": 82
        }
      ]
    },
    {
      "cell_type": "code",
      "metadata": {
        "colab": {
          "base_uri": "https://localhost:8080/"
        },
        "id": "fFjkM11OgzYV",
        "outputId": "5950e784-cb6a-4540-aa58-4bb10a4de98f"
      },
      "source": [
        "test_dataset.data"
      ],
      "execution_count": null,
      "outputs": [
        {
          "output_type": "execute_result",
          "data": {
            "text/plain": [
              "tensor([[[0, 0, 0,  ..., 0, 0, 0],\n",
              "         [0, 0, 0,  ..., 0, 0, 0],\n",
              "         [0, 0, 0,  ..., 0, 0, 0],\n",
              "         ...,\n",
              "         [0, 0, 0,  ..., 0, 0, 0],\n",
              "         [0, 0, 0,  ..., 0, 0, 0],\n",
              "         [0, 0, 0,  ..., 0, 0, 0]],\n",
              "\n",
              "        [[0, 0, 0,  ..., 0, 0, 0],\n",
              "         [0, 0, 0,  ..., 0, 0, 0],\n",
              "         [0, 0, 0,  ..., 0, 0, 0],\n",
              "         ...,\n",
              "         [0, 0, 0,  ..., 0, 0, 0],\n",
              "         [0, 0, 0,  ..., 0, 0, 0],\n",
              "         [0, 0, 0,  ..., 0, 0, 0]],\n",
              "\n",
              "        [[0, 0, 0,  ..., 0, 0, 0],\n",
              "         [0, 0, 0,  ..., 0, 0, 0],\n",
              "         [0, 0, 0,  ..., 0, 0, 0],\n",
              "         ...,\n",
              "         [0, 0, 0,  ..., 0, 0, 0],\n",
              "         [0, 0, 0,  ..., 0, 0, 0],\n",
              "         [0, 0, 0,  ..., 0, 0, 0]],\n",
              "\n",
              "        ...,\n",
              "\n",
              "        [[0, 0, 0,  ..., 0, 0, 0],\n",
              "         [0, 0, 0,  ..., 0, 0, 0],\n",
              "         [0, 0, 0,  ..., 0, 0, 0],\n",
              "         ...,\n",
              "         [0, 0, 0,  ..., 0, 0, 0],\n",
              "         [0, 0, 0,  ..., 0, 0, 0],\n",
              "         [0, 0, 0,  ..., 0, 0, 0]],\n",
              "\n",
              "        [[0, 0, 0,  ..., 0, 0, 0],\n",
              "         [0, 0, 0,  ..., 0, 0, 0],\n",
              "         [0, 0, 0,  ..., 0, 0, 0],\n",
              "         ...,\n",
              "         [0, 0, 0,  ..., 0, 0, 0],\n",
              "         [0, 0, 0,  ..., 0, 0, 0],\n",
              "         [0, 0, 0,  ..., 0, 0, 0]],\n",
              "\n",
              "        [[0, 0, 0,  ..., 0, 0, 0],\n",
              "         [0, 0, 0,  ..., 0, 0, 0],\n",
              "         [0, 0, 0,  ..., 0, 0, 0],\n",
              "         ...,\n",
              "         [0, 0, 0,  ..., 0, 0, 0],\n",
              "         [0, 0, 0,  ..., 0, 0, 0],\n",
              "         [0, 0, 0,  ..., 0, 0, 0]]], dtype=torch.uint8)"
            ]
          },
          "metadata": {
            "tags": []
          },
          "execution_count": 87
        }
      ]
    },
    {
      "cell_type": "code",
      "metadata": {
        "colab": {
          "base_uri": "https://localhost:8080/"
        },
        "id": "eVFoPAPFgWD8",
        "outputId": "32d01b34-7411-40c1-ef25-6fb6ca44ff27"
      },
      "source": [
        "y_test"
      ],
      "execution_count": null,
      "outputs": [
        {
          "output_type": "execute_result",
          "data": {
            "text/plain": [
              "array([7, 2, 1, ..., 4, 5, 6])"
            ]
          },
          "metadata": {
            "tags": []
          },
          "execution_count": 85
        }
      ]
    },
    {
      "cell_type": "code",
      "metadata": {
        "colab": {
          "base_uri": "https://localhost:8080/",
          "height": 511
        },
        "id": "ZXAKBHIfgRZM",
        "outputId": "485c9976-2952-4d0e-e3fd-09a0a9f67bdf"
      },
      "source": [
        "# get all predictions in an array and plot confusion matrix\n",
        "\n",
        "x_test = test_dataset.data.numpy()\n",
        "y_test = test_dataset.targets.numpy()\n",
        "p_test = np.array([])\n",
        "for inputs, targets in test_loader:\n",
        "  # move data to GPU\n",
        "  inputs = inputs.to(device)\n",
        "\n",
        "  # reshape the input\n",
        "  inputs = inputs.view(-1, 784)\n",
        "\n",
        "  # Forward pass\n",
        "  outputs = model(inputs)\n",
        "\n",
        "  # Get prediction\n",
        "  _, predictions = torch.max(outputs, 1)\n",
        "   \n",
        "  # update p_test\n",
        "  p_test = np.concatenate((p_test, predictions.cpu().numpy()))\n",
        "\n",
        "cm = confusion_matrix(y_test, p_test)  # y_test is the true value and p_test is the predicted value\n",
        "plot_confusion_matrix(cm, list(range(10)))"
      ],
      "execution_count": null,
      "outputs": [
        {
          "output_type": "stream",
          "text": [
            "Confusion matrix, without normalization\n",
            "[[ 970    0    1    2    1    0    2    1    1    2]\n",
            " [   0 1124    3    1    0    1    2    1    3    0]\n",
            " [   5    1 1007    3    1    0    2    2   10    1]\n",
            " [   0    0    2  991    1    1    0    4    5    6]\n",
            " [   2    1    0    1  956    0    5    2    2   13]\n",
            " [   2    0    0   11    1  865    5    1    4    3]\n",
            " [   6    3    2    1    2    4  938    0    2    0]\n",
            " [   0    5   11    6    0    0    0  998    1    7]\n",
            " [   6    1    3    6    2    3    2    2  947    2]\n",
            " [   3    4    0    6    7    3    0    3    2  981]]\n"
          ],
          "name": "stdout"
        },
        {
          "output_type": "display_data",
          "data": {
            "image/png": "[encoded data removed]",
            "text/plain": [
              "<Figure size 432x288 with 2 Axes>"
            ]
          },
          "metadata": {
            "tags": [],
            "needs_background": "light"
          }
        }
      ]
    },
    {
      "cell_type": "code",
      "metadata": {
        "colab": {
          "base_uri": "https://localhost:8080/"
        },
        "id": "yKV8EEduoso_",
        "outputId": "7d2a5346-e0a7-48be-85f5-4c3898bcffa6"
      },
      "source": [
        "np.where(p_test!=y_test)"
      ],
      "execution_count": null,
      "outputs": [
        {
          "output_type": "execute_result",
          "data": {
            "text/plain": [
              "(array([ 115,  149,  247,  259,  321,  340,  381,  445,  495,  582,  613,\n",
              "         619,  659,  684,  691,  707,  720,  740,  810,  846,  900,  947,\n",
              "         951,  965, 1014, 1039, 1044, 1112, 1181, 1182, 1226, 1232, 1242,\n",
              "        1247, 1299, 1319, 1378, 1393, 1414, 1500, 1522, 1530, 1549, 1553,\n",
              "        1609, 1621, 1681, 1709, 1717, 1721, 1754, 1790, 1828, 1878, 1901,\n",
              "        1941, 1984, 1987, 2004, 2016, 2024, 2035, 2043, 2053, 2070, 2098,\n",
              "        2109, 2118, 2130, 2135, 2182, 2272, 2280, 2293, 2369, 2387, 2406,\n",
              "        2414, 2462, 2488, 2597, 2607, 2610, 2648, 2654, 2760, 2771, 2810,\n",
              "        2836, 2896, 2915, 2939, 3005, 3073, 3117, 3251, 3422, 3451, 3490,\n",
              "        3503, 3520, 3558, 3559, 3567, 3597, 3662, 3681, 3718, 3751, 3757,\n",
              "        3767, 3776, 3780, 3796, 3808, 3818, 3838, 3853, 3893, 3902, 3906,\n",
              "        3941, 4065, 4078, 4163, 4176, 4199, 4201, 4224, 4248, 4289, 4294,\n",
              "        4355, 4425, 4497, 4534, 4547, 4567, 4571, 4761, 4807, 4814, 4823,\n",
              "        4860, 4880, 4943, 4956, 4966, 4990, 5046, 5078, 5140, 5331, 5457,\n",
              "        5600, 5634, 5642, 5676, 5734, 5749, 5936, 5937, 5955, 5972, 5973,\n",
              "        5981, 5997, 6011, 6023, 6045, 6046, 6059, 6166, 6555, 6560, 6571,\n",
              "        6574, 6576, 6597, 6625, 6755, 6783, 7216, 7434, 7921, 8020, 8062,\n",
              "        8094, 8255, 8277, 8311, 8325, 8408, 8456, 8519, 8520, 8522, 9009,\n",
              "        9015, 9019, 9024, 9280, 9422, 9482, 9505, 9587, 9634, 9669, 9679,\n",
              "        9700, 9729, 9745, 9749, 9768, 9770, 9779, 9782, 9792, 9793, 9811,\n",
              "        9839, 9944, 9982]),)"
            ]
          },
          "metadata": {
            "tags": []
          },
          "execution_count": 106
        }
      ]
    },
    {
      "cell_type": "code",
      "metadata": {
        "colab": {
          "base_uri": "https://localhost:8080/"
        },
        "id": "INGo4YPlpOOK",
        "outputId": "418cb0e3-a932-48e6-d0c0-1a693f53a673"
      },
      "source": [
        "misclassified_img = np.where(p_test!=y_test)[0]\n",
        "i = np.random.choice(misclassified_img)\n",
        "i"
      ],
      "execution_count": null,
      "outputs": [
        {
          "output_type": "execute_result",
          "data": {
            "text/plain": [
              "2654"
            ]
          },
          "metadata": {
            "tags": []
          },
          "execution_count": 116
        }
      ]
    },
    {
      "cell_type": "code",
      "metadata": {
        "colab": {
          "base_uri": "https://localhost:8080/"
        },
        "id": "bAFJ8MmnphL-",
        "outputId": "4ef0d678-e646-465c-a7b6-d6f98aeb7d50"
      },
      "source": [
        "p_test"
      ],
      "execution_count": null,
      "outputs": [
        {
          "output_type": "execute_result",
          "data": {
            "text/plain": [
              "array([7., 2., 1., ..., 4., 5., 6.])"
            ]
          },
          "metadata": {
            "tags": []
          },
          "execution_count": 117
        }
      ]
    },
    {
      "cell_type": "code",
      "metadata": {
        "colab": {
          "base_uri": "https://localhost:8080/",
          "height": 299
        },
        "id": "GE882o8qmdzF",
        "outputId": "2de1d33c-62de-4f98-bc39-3e9dd0e2b7cb"
      },
      "source": [
        "misclassified_img = np.where(p_test!=y_test)[0]\n",
        "i = np.random.choice(misclassified_img)\n",
        "plt.imshow(x_test[i], cmap='gray')\n",
        "plt.title(\"True Label: %s Predicted: %s\" % (y_test[i], int(p_test[i])));\n",
        "plt.title(f\"True Label: {y_test[i]} Predicted: {p_test[i]} Img no. {i}\")"
      ],
      "execution_count": null,
      "outputs": [
        {
          "output_type": "execute_result",
          "data": {
            "text/plain": [
              "Text(0.5, 1.0, 'True Label: 7 Predicted: 2.0 Img no. 2016')"
            ]
          },
          "metadata": {
            "tags": []
          },
          "execution_count": 120
        },
        {
          "output_type": "display_data",
          "data": {
            "image/png": "[encoded data removed]",
            "text/plain": [
              "<Figure size 432x288 with 1 Axes>"
            ]
          },
          "metadata": {
            "tags": [],
            "needs_background": "light"
          }
        }
      ]
    }
  ]
}