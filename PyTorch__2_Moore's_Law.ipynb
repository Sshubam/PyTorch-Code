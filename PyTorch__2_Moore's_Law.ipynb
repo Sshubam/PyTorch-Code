{
  "nbformat": 4,
  "nbformat_minor": 0,
  "metadata": {
    "colab": {
      "name": "PyTorch _2_Moore's_Law.ipynb",
      "provenance": [],
      "authorship_tag": "ABX9TyNYa+OWc0nzKkzjddOCJw6T",
      "include_colab_link": true
    },
    "kernelspec": {
      "name": "python3",
      "display_name": "Python 3"
    },
    "language_info": {
      "name": "python"
    }
  },
  "cells": [
    {
      "cell_type": "markdown",
      "metadata": {
        "id": "view-in-github",
        "colab_type": "text"
      },
      "source": [
        "<a href=\"https://colab.research.google.com/github/Sshubam/PyTorch-Code/blob/main/PyTorch__2_Moore's_Law.ipynb\" target=\"_parent\"><img src=\"https://colab.research.google.com/assets/colab-badge.svg\" alt=\"Open In Colab\"/></a>"
      ]
    },
    {
      "cell_type": "code",
      "metadata": {
        "id": "TSPKo7q55B0B"
      },
      "source": [
        "import torch\n",
        "import torch.nn as nn\n",
        "import pandas as pd\n",
        "import numpy as np\n",
        "import matplotlib.pyplot as plt"
      ],
      "execution_count": null,
      "outputs": []
    },
    {
      "cell_type": "code",
      "metadata": {
        "colab": {
          "base_uri": "https://localhost:8080/"
        },
        "id": "CzP2JNm_7QcQ",
        "outputId": "4006ae44-dab4-4534-a8b4-a6baaaea218c"
      },
      "source": [
        "!wget https://raw.githubusercontent.com/lazyprogrammer/machine_learning_examples/master/tf2.0/moore.csv"
      ],
      "execution_count": null,
      "outputs": [
        {
          "output_type": "stream",
          "text": [
            "--2021-08-15 10:12:12--  https://raw.githubusercontent.com/lazyprogrammer/machine_learning_examples/master/tf2.0/moore.csv\n",
            "Resolving raw.githubusercontent.com (raw.githubusercontent.com)... 185.199.111.133, 185.199.110.133, 185.199.108.133, ...\n",
            "Connecting to raw.githubusercontent.com (raw.githubusercontent.com)|185.199.111.133|:443... connected.\n",
            "HTTP request sent, awaiting response... 200 OK\n",
            "Length: 2302 (2.2K) [text/plain]\n",
            "Saving to: ‘moore.csv.3’\n",
            "\n",
            "\rmoore.csv.3           0%[                    ]       0  --.-KB/s               \rmoore.csv.3         100%[===================>]   2.25K  --.-KB/s    in 0s      \n",
            "\n",
            "2021-08-15 10:12:12 (35.9 MB/s) - ‘moore.csv.3’ saved [2302/2302]\n",
            "\n"
          ],
          "name": "stdout"
        }
      ]
    },
    {
      "cell_type": "code",
      "metadata": {
        "id": "yn07MKxB7XS2"
      },
      "source": [
        "#Load in the data\n",
        "data = pd.read_csv('moore.csv', header = None).values\n",
        "X = data[:, 0].reshape(-1, 1)\n",
        "Y = data[:, 1].reshape(-1, 1)  # -1 means numpy will figure out the rows itself and the columns remain fixed i.e. 1"
      ],
      "execution_count": null,
      "outputs": []
    },
    {
      "cell_type": "code",
      "metadata": {
        "colab": {
          "base_uri": "https://localhost:8080/"
        },
        "id": "IucUaa_9-Owu",
        "outputId": "d97b549c-fe42-41ed-fff6-5af5af9ac6a8"
      },
      "source": [
        "X, Y"
      ],
      "execution_count": null,
      "outputs": [
        {
          "output_type": "execute_result",
          "data": {
            "text/plain": [
              "(array([[1971],\n",
              "        [1972],\n",
              "        [1973],\n",
              "        [1973],\n",
              "        [1974],\n",
              "        [1974],\n",
              "        [1974],\n",
              "        [1975],\n",
              "        [1976],\n",
              "        [1976],\n",
              "        [1976],\n",
              "        [1978],\n",
              "        [1978],\n",
              "        [1979],\n",
              "        [1979],\n",
              "        [1979],\n",
              "        [1981],\n",
              "        [1982],\n",
              "        [1982],\n",
              "        [1983],\n",
              "        [1984],\n",
              "        [1984],\n",
              "        [1985],\n",
              "        [1985],\n",
              "        [1985],\n",
              "        [1986],\n",
              "        [1986],\n",
              "        [1986],\n",
              "        [1987],\n",
              "        [1987],\n",
              "        [1987],\n",
              "        [1987],\n",
              "        [1988],\n",
              "        [1988],\n",
              "        [1989],\n",
              "        [1989],\n",
              "        [1989],\n",
              "        [1989],\n",
              "        [1990],\n",
              "        [1991],\n",
              "        [1991],\n",
              "        [1992],\n",
              "        [1992],\n",
              "        [1993],\n",
              "        [1993],\n",
              "        [1994],\n",
              "        [1994],\n",
              "        [1995],\n",
              "        [1999],\n",
              "        [1995],\n",
              "        [1996],\n",
              "        [1997],\n",
              "        [1997],\n",
              "        [1997],\n",
              "        [1998],\n",
              "        [1999],\n",
              "        [1999],\n",
              "        [2000],\n",
              "        [2000],\n",
              "        [1999],\n",
              "        [1999],\n",
              "        [1999],\n",
              "        [2000],\n",
              "        [2001],\n",
              "        [2001],\n",
              "        [2002],\n",
              "        [2004],\n",
              "        [2004],\n",
              "        [2005],\n",
              "        [2006],\n",
              "        [2005],\n",
              "        [2006],\n",
              "        [2007],\n",
              "        [2008],\n",
              "        [2003],\n",
              "        [2003],\n",
              "        [2002],\n",
              "        [2005],\n",
              "        [2005],\n",
              "        [2006],\n",
              "        [2007],\n",
              "        [2003],\n",
              "        [2008],\n",
              "        [2009],\n",
              "        [2011],\n",
              "        [2012],\n",
              "        [2007],\n",
              "        [2007],\n",
              "        [2008],\n",
              "        [2004],\n",
              "        [2007],\n",
              "        [2008],\n",
              "        [2008],\n",
              "        [2007],\n",
              "        [2009],\n",
              "        [2010],\n",
              "        [2012],\n",
              "        [2013],\n",
              "        [2011],\n",
              "        [2010],\n",
              "        [2010],\n",
              "        [2012],\n",
              "        [2012],\n",
              "        [2010],\n",
              "        [2012],\n",
              "        [2014],\n",
              "        [2006],\n",
              "        [2015],\n",
              "        [2013],\n",
              "        [2015],\n",
              "        [2008],\n",
              "        [2010],\n",
              "        [2014],\n",
              "        [2015],\n",
              "        [2015],\n",
              "        [2012],\n",
              "        [2011],\n",
              "        [2010],\n",
              "        [2014],\n",
              "        [2011],\n",
              "        [2012],\n",
              "        [2014],\n",
              "        [2016],\n",
              "        [2017],\n",
              "        [2017],\n",
              "        [2018],\n",
              "        [2012],\n",
              "        [2016],\n",
              "        [2016],\n",
              "        [2015],\n",
              "        [2013],\n",
              "        [2017],\n",
              "        [2014],\n",
              "        [2017],\n",
              "        [2017],\n",
              "        [2017],\n",
              "        [2012],\n",
              "        [2013],\n",
              "        [2014],\n",
              "        [2017],\n",
              "        [2018],\n",
              "        [2016],\n",
              "        [2018],\n",
              "        [2017],\n",
              "        [2018],\n",
              "        [2017],\n",
              "        [2015],\n",
              "        [2017],\n",
              "        [2016],\n",
              "        [2017],\n",
              "        [2016],\n",
              "        [2017],\n",
              "        [2017],\n",
              "        [2015],\n",
              "        [2017],\n",
              "        [2018],\n",
              "        [2017],\n",
              "        [2017],\n",
              "        [2017],\n",
              "        [2018],\n",
              "        [2018],\n",
              "        [2018]]), array([[       2300],\n",
              "        [       3500],\n",
              "        [       2500],\n",
              "        [       2500],\n",
              "        [       4100],\n",
              "        [       4500],\n",
              "        [       8000],\n",
              "        [       3510],\n",
              "        [       5000],\n",
              "        [       8500],\n",
              "        [       6500],\n",
              "        [       9000],\n",
              "        [      29000],\n",
              "        [      17500],\n",
              "        [      29000],\n",
              "        [      68000],\n",
              "        [      11500],\n",
              "        [      55000],\n",
              "        [     134000],\n",
              "        [      22000],\n",
              "        [      63000],\n",
              "        [     190000],\n",
              "        [     275000],\n",
              "        [      25000],\n",
              "        [      16000],\n",
              "        [     110000],\n",
              "        [     375000],\n",
              "        [      30000],\n",
              "        [     385000],\n",
              "        [     730000],\n",
              "        [     273000],\n",
              "        [     553000],\n",
              "        [     180000],\n",
              "        [     250000],\n",
              "        [     600000],\n",
              "        [    1000000],\n",
              "        [    1180235],\n",
              "        [     310000],\n",
              "        [    1200000],\n",
              "        [    1350000],\n",
              "        [      35000],\n",
              "        [     600000],\n",
              "        [     900000],\n",
              "        [    2800000],\n",
              "        [    3100000],\n",
              "        [     578977],\n",
              "        [    2500000],\n",
              "        [    2500000],\n",
              "        [     111000],\n",
              "        [    5500000],\n",
              "        [    4300000],\n",
              "        [   10000000],\n",
              "        [    7500000],\n",
              "        [    8800000],\n",
              "        [    7500000],\n",
              "        [    9500000],\n",
              "        [   13500000],\n",
              "        [   21000000],\n",
              "        [   21000000],\n",
              "        [   27400000],\n",
              "        [   21300000],\n",
              "        [   22000000],\n",
              "        [   42000000],\n",
              "        [  191000000],\n",
              "        [   45000000],\n",
              "        [   55000000],\n",
              "        [  112000000],\n",
              "        [  400000000],\n",
              "        [  169000000],\n",
              "        [  184000000],\n",
              "        [  228000000],\n",
              "        [  362000000],\n",
              "        [  540000000],\n",
              "        [   47000000],\n",
              "        [   54300000],\n",
              "        [  105900000],\n",
              "        [  220000000],\n",
              "        [  165000000],\n",
              "        [  250000000],\n",
              "        [  291000000],\n",
              "        [  169000000],\n",
              "        [  410000000],\n",
              "        [  600000000],\n",
              "        [  760000000],\n",
              "        [ 1870000000],\n",
              "        [  432000000],\n",
              "        [  463000000],\n",
              "        [   26000000],\n",
              "        [  230000000],\n",
              "        [  592000000],\n",
              "        [  411000000],\n",
              "        [  731000000],\n",
              "        [  758000000],\n",
              "        [  789000000],\n",
              "        [  904000000],\n",
              "        [ 1000000000],\n",
              "        [ 2990000000],\n",
              "        [ 1000000000],\n",
              "        [ 1160000000],\n",
              "        [ 1170000000],\n",
              "        [ 1200000000],\n",
              "        [ 1200000000],\n",
              "        [ 1303000000],\n",
              "        [ 1400000000],\n",
              "        [ 1400000000],\n",
              "        [ 1400000000],\n",
              "        [ 1700000000],\n",
              "        [ 1750000000],\n",
              "        [ 1860000000],\n",
              "        [ 1900000000],\n",
              "        [ 1900000000],\n",
              "        [ 2000000000],\n",
              "        [ 2000000000],\n",
              "        [ 2000000000],\n",
              "        [ 3000000000],\n",
              "        [ 2100000000],\n",
              "        [ 2270000000],\n",
              "        [ 2300000000],\n",
              "        [ 2600000000],\n",
              "        [ 2600000000],\n",
              "        [ 2750000000],\n",
              "        [ 3000000000],\n",
              "        [ 3000000000],\n",
              "        [ 5300000000],\n",
              "        [ 5300000000],\n",
              "        [ 8500000000],\n",
              "        [ 3100000000],\n",
              "        [ 3200000000],\n",
              "        [ 3300000000],\n",
              "        [ 3990000000],\n",
              "        [ 4200000000],\n",
              "        [ 4300000000],\n",
              "        [ 4310000000],\n",
              "        [ 4800000000],\n",
              "        [ 4800000000],\n",
              "        [ 4800000000],\n",
              "        [ 5000000000],\n",
              "        [ 5000000000],\n",
              "        [ 5560000000],\n",
              "        [ 6100000000],\n",
              "        [ 6900000000],\n",
              "        [ 4000000000],\n",
              "        [ 6900000000],\n",
              "        [ 5500000000],\n",
              "        [ 5500000000],\n",
              "        [ 7000000000],\n",
              "        [ 7100000000],\n",
              "        [ 8000000000],\n",
              "        [ 7200000000],\n",
              "        [ 8000000000],\n",
              "        [ 8000000000],\n",
              "        [ 9700000000],\n",
              "        [  250000000],\n",
              "        [10000000000],\n",
              "        [ 5450000000],\n",
              "        [10000000000],\n",
              "        [ 4300000000],\n",
              "        [18000000000],\n",
              "        [19200000000],\n",
              "        [ 8876000000],\n",
              "        [23600000000],\n",
              "        [ 9000000000]]))"
            ]
          },
          "metadata": {
            "tags": []
          },
          "execution_count": 59
        }
      ]
    },
    {
      "cell_type": "code",
      "metadata": {
        "colab": {
          "base_uri": "https://localhost:8080/",
          "height": 293
        },
        "id": "8VMrAbBE-u6O",
        "outputId": "30b2b16b-3aa2-4250-95e0-d3ca9f995dd5"
      },
      "source": [
        "plt.scatter(X, Y)"
      ],
      "execution_count": null,
      "outputs": [
        {
          "output_type": "execute_result",
          "data": {
            "text/plain": [
              "<matplotlib.collections.PathCollection at 0x7fcdc3e5fc90>"
            ]
          },
          "metadata": {
            "tags": []
          },
          "execution_count": 60
        },
        {
          "output_type": "display_data",
          "data": {
            "image/png": "[encoded data removed]",
            "text/plain": [
              "<Figure size 432x288 with 1 Axes>"
            ]
          },
          "metadata": {
            "tags": [],
            "needs_background": "light"
          }
        }
      ]
    },
    {
      "cell_type": "code",
      "metadata": {
        "colab": {
          "base_uri": "https://localhost:8080/",
          "height": 282
        },
        "id": "cdGUKCc7_RGM",
        "outputId": "ecc9cbd2-c260-4ff8-8ef2-b7e4c99368cc"
      },
      "source": [
        "Y = np.log(Y)\n",
        "plt.scatter(X, Y)"
      ],
      "execution_count": null,
      "outputs": [
        {
          "output_type": "execute_result",
          "data": {
            "text/plain": [
              "<matplotlib.collections.PathCollection at 0x7fcdc3e3ad90>"
            ]
          },
          "metadata": {
            "tags": []
          },
          "execution_count": 61
        },
        {
          "output_type": "display_data",
          "data": {
            "image/png": "[encoded data removed]",
            "text/plain": [
              "<Figure size 432x288 with 1 Axes>"
            ]
          },
          "metadata": {
            "tags": [],
            "needs_background": "light"
          }
        }
      ]
    },
    {
      "cell_type": "code",
      "metadata": {
        "id": "oJRvQ8M4AKc0"
      },
      "source": [
        "mx = X.mean()\n",
        "sx = X.std()\n",
        "my = Y.mean()\n",
        "sy = Y.std()\n",
        "X = (X-mx)/sx\n",
        "Y = (Y-my)/sy"
      ],
      "execution_count": null,
      "outputs": []
    },
    {
      "cell_type": "code",
      "metadata": {
        "colab": {
          "base_uri": "https://localhost:8080/"
        },
        "id": "hwjeGv2PAdZ2",
        "outputId": "0e787188-5a3a-4fa5-fa24-03e2aa09098f"
      },
      "source": [
        "X, Y"
      ],
      "execution_count": null,
      "outputs": [
        {
          "output_type": "execute_result",
          "data": {
            "text/plain": [
              "(array([[-2.28593353],\n",
              "        [-2.21266063],\n",
              "        [-2.13938773],\n",
              "        [-2.13938773],\n",
              "        [-2.06611483],\n",
              "        [-2.06611483],\n",
              "        [-2.06611483],\n",
              "        [-1.99284193],\n",
              "        [-1.91956903],\n",
              "        [-1.91956903],\n",
              "        [-1.91956903],\n",
              "        [-1.77302323],\n",
              "        [-1.77302323],\n",
              "        [-1.69975034],\n",
              "        [-1.69975034],\n",
              "        [-1.69975034],\n",
              "        [-1.55320454],\n",
              "        [-1.47993164],\n",
              "        [-1.47993164],\n",
              "        [-1.40665874],\n",
              "        [-1.33338584],\n",
              "        [-1.33338584],\n",
              "        [-1.26011294],\n",
              "        [-1.26011294],\n",
              "        [-1.26011294],\n",
              "        [-1.18684004],\n",
              "        [-1.18684004],\n",
              "        [-1.18684004],\n",
              "        [-1.11356714],\n",
              "        [-1.11356714],\n",
              "        [-1.11356714],\n",
              "        [-1.11356714],\n",
              "        [-1.04029424],\n",
              "        [-1.04029424],\n",
              "        [-0.96702135],\n",
              "        [-0.96702135],\n",
              "        [-0.96702135],\n",
              "        [-0.96702135],\n",
              "        [-0.89374845],\n",
              "        [-0.82047555],\n",
              "        [-0.82047555],\n",
              "        [-0.74720265],\n",
              "        [-0.74720265],\n",
              "        [-0.67392975],\n",
              "        [-0.67392975],\n",
              "        [-0.60065685],\n",
              "        [-0.60065685],\n",
              "        [-0.52738395],\n",
              "        [-0.23429236],\n",
              "        [-0.52738395],\n",
              "        [-0.45411105],\n",
              "        [-0.38083815],\n",
              "        [-0.38083815],\n",
              "        [-0.38083815],\n",
              "        [-0.30756525],\n",
              "        [-0.23429236],\n",
              "        [-0.23429236],\n",
              "        [-0.16101946],\n",
              "        [-0.16101946],\n",
              "        [-0.23429236],\n",
              "        [-0.23429236],\n",
              "        [-0.23429236],\n",
              "        [-0.16101946],\n",
              "        [-0.08774656],\n",
              "        [-0.08774656],\n",
              "        [-0.01447366],\n",
              "        [ 0.13207214],\n",
              "        [ 0.13207214],\n",
              "        [ 0.20534504],\n",
              "        [ 0.27861794],\n",
              "        [ 0.20534504],\n",
              "        [ 0.27861794],\n",
              "        [ 0.35189084],\n",
              "        [ 0.42516373],\n",
              "        [ 0.05879924],\n",
              "        [ 0.05879924],\n",
              "        [-0.01447366],\n",
              "        [ 0.20534504],\n",
              "        [ 0.20534504],\n",
              "        [ 0.27861794],\n",
              "        [ 0.35189084],\n",
              "        [ 0.05879924],\n",
              "        [ 0.42516373],\n",
              "        [ 0.49843663],\n",
              "        [ 0.64498243],\n",
              "        [ 0.71825533],\n",
              "        [ 0.35189084],\n",
              "        [ 0.35189084],\n",
              "        [ 0.42516373],\n",
              "        [ 0.13207214],\n",
              "        [ 0.35189084],\n",
              "        [ 0.42516373],\n",
              "        [ 0.42516373],\n",
              "        [ 0.35189084],\n",
              "        [ 0.49843663],\n",
              "        [ 0.57170953],\n",
              "        [ 0.71825533],\n",
              "        [ 0.79152823],\n",
              "        [ 0.64498243],\n",
              "        [ 0.57170953],\n",
              "        [ 0.57170953],\n",
              "        [ 0.71825533],\n",
              "        [ 0.71825533],\n",
              "        [ 0.57170953],\n",
              "        [ 0.71825533],\n",
              "        [ 0.86480113],\n",
              "        [ 0.27861794],\n",
              "        [ 0.93807403],\n",
              "        [ 0.79152823],\n",
              "        [ 0.93807403],\n",
              "        [ 0.42516373],\n",
              "        [ 0.57170953],\n",
              "        [ 0.86480113],\n",
              "        [ 0.93807403],\n",
              "        [ 0.93807403],\n",
              "        [ 0.71825533],\n",
              "        [ 0.64498243],\n",
              "        [ 0.57170953],\n",
              "        [ 0.86480113],\n",
              "        [ 0.64498243],\n",
              "        [ 0.71825533],\n",
              "        [ 0.86480113],\n",
              "        [ 1.01134693],\n",
              "        [ 1.08461983],\n",
              "        [ 1.08461983],\n",
              "        [ 1.15789272],\n",
              "        [ 0.71825533],\n",
              "        [ 1.01134693],\n",
              "        [ 1.01134693],\n",
              "        [ 0.93807403],\n",
              "        [ 0.79152823],\n",
              "        [ 1.08461983],\n",
              "        [ 0.86480113],\n",
              "        [ 1.08461983],\n",
              "        [ 1.08461983],\n",
              "        [ 1.08461983],\n",
              "        [ 0.71825533],\n",
              "        [ 0.79152823],\n",
              "        [ 0.86480113],\n",
              "        [ 1.08461983],\n",
              "        [ 1.15789272],\n",
              "        [ 1.01134693],\n",
              "        [ 1.15789272],\n",
              "        [ 1.08461983],\n",
              "        [ 1.15789272],\n",
              "        [ 1.08461983],\n",
              "        [ 0.93807403],\n",
              "        [ 1.08461983],\n",
              "        [ 1.01134693],\n",
              "        [ 1.08461983],\n",
              "        [ 1.01134693],\n",
              "        [ 1.08461983],\n",
              "        [ 1.08461983],\n",
              "        [ 0.93807403],\n",
              "        [ 1.08461983],\n",
              "        [ 1.15789272],\n",
              "        [ 1.08461983],\n",
              "        [ 1.08461983],\n",
              "        [ 1.08461983],\n",
              "        [ 1.15789272],\n",
              "        [ 1.15789272],\n",
              "        [ 1.15789272]]), array([[-2.10791321],\n",
              "        [-2.01962598],\n",
              "        [-2.09037965],\n",
              "        [-2.09037965],\n",
              "        [-1.9863545 ],\n",
              "        [-1.96677937],\n",
              "        [-1.8457913 ],\n",
              "        [-2.01902604],\n",
              "        [-1.94462407],\n",
              "        [-1.8330431 ],\n",
              "        [-1.88945388],\n",
              "        [-1.82102378],\n",
              "        [-1.57498018],\n",
              "        [-1.68119199],\n",
              "        [-1.57498018],\n",
              "        [-1.39577633],\n",
              "        [-1.76947922],\n",
              "        [-1.44039258],\n",
              "        [-1.25313607],\n",
              "        [-1.63307098],\n",
              "        [-1.41183611],\n",
              "        [-1.1797093 ],\n",
              "        [-1.10195858],\n",
              "        [-1.60619007],\n",
              "        [-1.70003571],\n",
              "        [-1.29463699],\n",
              "        [-1.03673893],\n",
              "        [-1.56785134],\n",
              "        [-1.03120491],\n",
              "        [-0.89666696],\n",
              "        [-1.10349348],\n",
              "        [-0.95505912],\n",
              "        [-1.19107861],\n",
              "        [-1.12200049],\n",
              "        [-0.93790616],\n",
              "        [-0.83048931],\n",
              "        [-0.79564292],\n",
              "        [-1.07676668],\n",
              "        [-0.79215058],\n",
              "        [-0.76738306],\n",
              "        [-1.5354364 ],\n",
              "        [-0.93790616],\n",
              "        [-0.85264461],\n",
              "        [-0.61398005],\n",
              "        [-0.5925771 ],\n",
              "        [-0.94540623],\n",
              "        [-0.6378109 ],\n",
              "        [-0.6378109 ],\n",
              "        [-1.29273398],\n",
              "        [-0.47201341],\n",
              "        [-0.52377048],\n",
              "        [-0.34629973],\n",
              "        [-0.40679376],\n",
              "        [-0.37318064],\n",
              "        [-0.40679376],\n",
              "        [-0.35708572],\n",
              "        [-0.28319347],\n",
              "        [-0.1902845 ],\n",
              "        [-0.1902845 ],\n",
              "        [-0.13434546],\n",
              "        [-0.18730174],\n",
              "        [-0.18050223],\n",
              "        [-0.04452891],\n",
              "        [ 0.27396329],\n",
              "        [-0.03002103],\n",
              "        [ 0.01217618],\n",
              "        [ 0.16172071],\n",
              "        [ 0.42940103],\n",
              "        [ 0.24823023],\n",
              "        [ 0.26611189],\n",
              "        [ 0.31119818],\n",
              "        [ 0.40841073],\n",
              "        [ 0.49250729],\n",
              "        [-0.02087694],\n",
              "        [ 0.0094827 ],\n",
              "        [ 0.14994422],\n",
              "        [ 0.30368735],\n",
              "        [ 0.24319332],\n",
              "        [ 0.33056827],\n",
              "        [ 0.36250201],\n",
              "        [ 0.24823023],\n",
              "        [ 0.43459342],\n",
              "        [ 0.51466259],\n",
              "        [ 0.56437062],\n",
              "        [ 0.75370232],\n",
              "        [ 0.44558447],\n",
              "        [ 0.46015724],\n",
              "        [-0.14537395],\n",
              "        [ 0.31303471],\n",
              "        [ 0.51183998],\n",
              "        [ 0.43510567],\n",
              "        [ 0.55618965],\n",
              "        [ 0.56381652],\n",
              "        [ 0.5722452 ],\n",
              "        [ 0.60085665],\n",
              "        [ 0.62207944],\n",
              "        [ 0.85239448],\n",
              "        [ 0.62207944],\n",
              "        [ 0.65328933],\n",
              "        [ 0.65509433],\n",
              "        [ 0.66041818],\n",
              "        [ 0.66041818],\n",
              "        [ 0.67773433],\n",
              "        [ 0.69283311],\n",
              "        [ 0.69283311],\n",
              "        [ 0.69283311],\n",
              "        [ 0.73366041],\n",
              "        [ 0.73975593],\n",
              "        [ 0.7525748 ],\n",
              "        [ 0.75704903],\n",
              "        [ 0.75704903],\n",
              "        [ 0.76783503],\n",
              "        [ 0.76783503],\n",
              "        [ 0.76783503],\n",
              "        [ 0.85309658],\n",
              "        [ 0.77809467],\n",
              "        [ 0.79446345],\n",
              "        [ 0.79722429],\n",
              "        [ 0.82300521],\n",
              "        [ 0.82300521],\n",
              "        [ 0.83479976],\n",
              "        [ 0.85309658],\n",
              "        [ 0.85309658],\n",
              "        [ 0.97276627],\n",
              "        [ 0.97276627],\n",
              "        [ 1.0720944 ],\n",
              "        [ 0.85999166],\n",
              "        [ 0.8666678 ],\n",
              "        [ 0.87313849],\n",
              "        [ 0.91306426],\n",
              "        [ 0.92385026],\n",
              "        [ 0.92879827],\n",
              "        [ 0.92928673],\n",
              "        [ 0.95192935],\n",
              "        [ 0.95192935],\n",
              "        [ 0.95192935],\n",
              "        [ 0.96051344],\n",
              "        [ 0.96051344],\n",
              "        [ 0.9828369 ],\n",
              "        [ 1.00232797],\n",
              "        [ 1.02824143],\n",
              "        [ 0.91359062],\n",
              "        [ 1.02824143],\n",
              "        [ 0.98055534],\n",
              "        [ 0.98055534],\n",
              "        [ 1.03126711],\n",
              "        [ 1.03424987],\n",
              "        [ 1.05934621],\n",
              "        [ 1.03719091],\n",
              "        [ 1.05934621],\n",
              "        [ 1.05934621],\n",
              "        [ 1.09986404],\n",
              "        [ 0.33056827],\n",
              "        [ 1.10626903],\n",
              "        [ 0.97863496],\n",
              "        [ 1.10626903],\n",
              "        [ 0.92879827],\n",
              "        [ 1.22986931],\n",
              "        [ 1.24344053],\n",
              "        [ 1.08119638],\n",
              "        [ 1.28682913],\n",
              "        [ 1.08411373]]))"
            ]
          },
          "metadata": {
            "tags": []
          },
          "execution_count": 63
        }
      ]
    },
    {
      "cell_type": "code",
      "metadata": {
        "colab": {
          "base_uri": "https://localhost:8080/",
          "height": 282
        },
        "id": "OXas6_HUA2K5",
        "outputId": "8ce740af-3dd1-4ebc-df65-810662d7e827"
      },
      "source": [
        "plt.scatter(X, Y)"
      ],
      "execution_count": null,
      "outputs": [
        {
          "output_type": "execute_result",
          "data": {
            "text/plain": [
              "<matplotlib.collections.PathCollection at 0x7fcdc3df0b90>"
            ]
          },
          "metadata": {
            "tags": []
          },
          "execution_count": 64
        },
        {
          "output_type": "display_data",
          "data": {
            "image/png": "[encoded data removed]",
            "text/plain": [
              "<Figure size 432x288 with 1 Axes>"
            ]
          },
          "metadata": {
            "tags": [],
            "needs_background": "light"
          }
        }
      ]
    },
    {
      "cell_type": "code",
      "metadata": {
        "id": "FRI7AAVzBLLy"
      },
      "source": [
        "X = X.astype(np.float32)\n",
        "Y = Y.astype(np.float32)"
      ],
      "execution_count": null,
      "outputs": []
    },
    {
      "cell_type": "code",
      "metadata": {
        "id": "aKgrkwNfJsfw"
      },
      "source": [
        "model = nn.Linear(1, 1)\n",
        "crtierion = nn.MSELoss()\n",
        "optimizer = torch.optim.SGD(model.parameters(), lr=0.01, momentum=0.7)\n",
        "inputs = torch.from_numpy(X)\n",
        "targets = torch.from_numpy(Y)"
      ],
      "execution_count": null,
      "outputs": []
    },
    {
      "cell_type": "code",
      "metadata": {
        "colab": {
          "base_uri": "https://localhost:8080/"
        },
        "id": "GY40qra3LHBz",
        "outputId": "128aecaf-0a7a-4525-aa8d-177a45b410b7"
      },
      "source": [
        "type(inputs)"
      ],
      "execution_count": null,
      "outputs": [
        {
          "output_type": "execute_result",
          "data": {
            "text/plain": [
              "torch.Tensor"
            ]
          },
          "metadata": {
            "tags": []
          },
          "execution_count": 67
        }
      ]
    },
    {
      "cell_type": "code",
      "metadata": {
        "colab": {
          "base_uri": "https://localhost:8080/"
        },
        "id": "vIiW-09ZLI1i",
        "outputId": "fcab6bbb-bcac-4816-d35b-f6e71f015dbc"
      },
      "source": [
        "n_epochs = 100\n",
        "losses = []\n",
        "for it in range(n_epochs):\n",
        "  optimizer.zero_grad()\n",
        "  outputs = model(inputs)\n",
        "  loss = crtierion(outputs, targets)\n",
        "  losses.append(loss.item())\n",
        "  loss.backward()\n",
        "  optimizer.step()\n",
        "\n",
        "  print(f'Epoch {it+1}/{n_epochs}, Loss:{loss.item():.4f}')"
      ],
      "execution_count": null,
      "outputs": [
        {
          "output_type": "stream",
          "text": [
            "Epoch 1/100, Loss:1.2444\n",
            "Epoch 2/100, Loss:1.1966\n",
            "Epoch 3/100, Loss:1.1186\n",
            "Epoch 4/100, Loss:1.0239\n",
            "Epoch 5/100, Loss:0.9224\n",
            "Epoch 6/100, Loss:0.8211\n",
            "Epoch 7/100, Loss:0.7242\n",
            "Epoch 8/100, Loss:0.6343\n",
            "Epoch 9/100, Loss:0.5528\n",
            "Epoch 10/100, Loss:0.4800\n",
            "Epoch 11/100, Loss:0.4159\n",
            "Epoch 12/100, Loss:0.3599\n",
            "Epoch 13/100, Loss:0.3114\n",
            "Epoch 14/100, Loss:0.2697\n",
            "Epoch 15/100, Loss:0.2339\n",
            "Epoch 16/100, Loss:0.2034\n",
            "Epoch 17/100, Loss:0.1775\n",
            "Epoch 18/100, Loss:0.1555\n",
            "Epoch 19/100, Loss:0.1369\n",
            "Epoch 20/100, Loss:0.1212\n",
            "Epoch 21/100, Loss:0.1079\n",
            "Epoch 22/100, Loss:0.0967\n",
            "Epoch 23/100, Loss:0.0874\n",
            "Epoch 24/100, Loss:0.0795\n",
            "Epoch 25/100, Loss:0.0728\n",
            "Epoch 26/100, Loss:0.0673\n",
            "Epoch 27/100, Loss:0.0626\n",
            "Epoch 28/100, Loss:0.0587\n",
            "Epoch 29/100, Loss:0.0554\n",
            "Epoch 30/100, Loss:0.0527\n",
            "Epoch 31/100, Loss:0.0504\n",
            "Epoch 32/100, Loss:0.0484\n",
            "Epoch 33/100, Loss:0.0468\n",
            "Epoch 34/100, Loss:0.0454\n",
            "Epoch 35/100, Loss:0.0443\n",
            "Epoch 36/100, Loss:0.0434\n",
            "Epoch 37/100, Loss:0.0426\n",
            "Epoch 38/100, Loss:0.0419\n",
            "Epoch 39/100, Loss:0.0413\n",
            "Epoch 40/100, Loss:0.0409\n",
            "Epoch 41/100, Loss:0.0405\n",
            "Epoch 42/100, Loss:0.0402\n",
            "Epoch 43/100, Loss:0.0399\n",
            "Epoch 44/100, Loss:0.0397\n",
            "Epoch 45/100, Loss:0.0395\n",
            "Epoch 46/100, Loss:0.0393\n",
            "Epoch 47/100, Loss:0.0392\n",
            "Epoch 48/100, Loss:0.0391\n",
            "Epoch 49/100, Loss:0.0390\n",
            "Epoch 50/100, Loss:0.0389\n",
            "Epoch 51/100, Loss:0.0388\n",
            "Epoch 52/100, Loss:0.0388\n",
            "Epoch 53/100, Loss:0.0387\n",
            "Epoch 54/100, Loss:0.0387\n",
            "Epoch 55/100, Loss:0.0386\n",
            "Epoch 56/100, Loss:0.0386\n",
            "Epoch 57/100, Loss:0.0386\n",
            "Epoch 58/100, Loss:0.0386\n",
            "Epoch 59/100, Loss:0.0386\n",
            "Epoch 60/100, Loss:0.0385\n",
            "Epoch 61/100, Loss:0.0385\n",
            "Epoch 62/100, Loss:0.0385\n",
            "Epoch 63/100, Loss:0.0385\n",
            "Epoch 64/100, Loss:0.0385\n",
            "Epoch 65/100, Loss:0.0385\n",
            "Epoch 66/100, Loss:0.0385\n",
            "Epoch 67/100, Loss:0.0385\n",
            "Epoch 68/100, Loss:0.0385\n",
            "Epoch 69/100, Loss:0.0385\n",
            "Epoch 70/100, Loss:0.0385\n",
            "Epoch 71/100, Loss:0.0385\n",
            "Epoch 72/100, Loss:0.0385\n",
            "Epoch 73/100, Loss:0.0385\n",
            "Epoch 74/100, Loss:0.0385\n",
            "Epoch 75/100, Loss:0.0385\n",
            "Epoch 76/100, Loss:0.0385\n",
            "Epoch 77/100, Loss:0.0385\n",
            "Epoch 78/100, Loss:0.0385\n",
            "Epoch 79/100, Loss:0.0385\n",
            "Epoch 80/100, Loss:0.0385\n",
            "Epoch 81/100, Loss:0.0385\n",
            "Epoch 82/100, Loss:0.0385\n",
            "Epoch 83/100, Loss:0.0385\n",
            "Epoch 84/100, Loss:0.0385\n",
            "Epoch 85/100, Loss:0.0385\n",
            "Epoch 86/100, Loss:0.0385\n",
            "Epoch 87/100, Loss:0.0385\n",
            "Epoch 88/100, Loss:0.0385\n",
            "Epoch 89/100, Loss:0.0385\n",
            "Epoch 90/100, Loss:0.0385\n",
            "Epoch 91/100, Loss:0.0385\n",
            "Epoch 92/100, Loss:0.0385\n",
            "Epoch 93/100, Loss:0.0385\n",
            "Epoch 94/100, Loss:0.0385\n",
            "Epoch 95/100, Loss:0.0385\n",
            "Epoch 96/100, Loss:0.0385\n",
            "Epoch 97/100, Loss:0.0385\n",
            "Epoch 98/100, Loss:0.0385\n",
            "Epoch 99/100, Loss:0.0385\n",
            "Epoch 100/100, Loss:0.0385\n"
          ],
          "name": "stdout"
        }
      ]
    },
    {
      "cell_type": "code",
      "metadata": {
        "colab": {
          "base_uri": "https://localhost:8080/",
          "height": 282
        },
        "id": "jaKUwhiVR2Rg",
        "outputId": "466acf91-5117-4b37-db22-f8c4c6143f78"
      },
      "source": [
        "plt.plot(losses)"
      ],
      "execution_count": null,
      "outputs": [
        {
          "output_type": "execute_result",
          "data": {
            "text/plain": [
              "[<matplotlib.lines.Line2D at 0x7fcdc3b62c90>]"
            ]
          },
          "metadata": {
            "tags": []
          },
          "execution_count": 86
        },
        {
          "output_type": "display_data",
          "data": {
            "image/png": "[encoded data removed]",
            "text/plain": [
              "<Figure size 432x288 with 1 Axes>"
            ]
          },
          "metadata": {
            "tags": [],
            "needs_background": "light"
          }
        }
      ]
    },
    {
      "cell_type": "code",
      "metadata": {
        "id": "jHUQzqfmVpCh"
      },
      "source": [
        "import torchviz"
      ],
      "execution_count": null,
      "outputs": []
    },
    {
      "cell_type": "code",
      "metadata": {
        "colab": {
          "base_uri": "https://localhost:8080/",
          "height": 472
        },
        "id": "VobCmFUvVtmg",
        "outputId": "d958b395-a20a-49cb-9da6-231483d7a61b"
      },
      "source": [
        "from torchviz import make_dot\n",
        "\n",
        "make_dot(loss)"
      ],
      "execution_count": null,
      "outputs": [
        {
          "output_type": "execute_result",
          "data": {
            "text/plain": [
              "<graphviz.dot.Digraph at 0x7fcdc3adad10>"
            ],
            "image/svg+xml": "<?xml version=\"1.0\" encoding=\"UTF-8\" standalone=\"no\"?>\n<!DOCTYPE svg PUBLIC \"-//W3C//DTD SVG 1.1//EN\"\n \"http://www.w3.org/Graphics/SVG/1.1/DTD/svg11.dtd\">\n<!-- Generated by graphviz version 2.40.1 (20161225.0304)\n -->\n<!-- Title: %3 Pages: 1 -->\n<svg width=\"213pt\" height=\"338pt\"\n viewBox=\"0.00 0.00 213.00 338.00\" xmlns=\"http://www.w3.org/2000/svg\" xmlns:xlink=\"http://www.w3.org/1999/xlink\">\n<g id=\"graph0\" class=\"graph\" transform=\"scale(1 1) rotate(0) translate(4 334)\">\n<title>%3</title>\n<polygon fill=\"#ffffff\" stroke=\"transparent\" points=\"-4,4 -4,-334 209,-334 209,4 -4,4\"/>\n<!-- 140521730326432 -->\n<g id=\"node1\" class=\"node\">\n<title>140521730326432</title>\n<polygon fill=\"#caff70\" stroke=\"#000000\" points=\"129.5,-31 75.5,-31 75.5,0 129.5,0 129.5,-31\"/>\n<text text-anchor=\"middle\" x=\"102.5\" y=\"-7\" font-family=\"monospace\" font-size=\"10.00\" fill=\"#000000\"> ()</text>\n</g>\n<!-- 140521727962256 -->\n<g id=\"node2\" class=\"node\">\n<title>140521727962256</title>\n<polygon fill=\"#d3d3d3\" stroke=\"#000000\" points=\"156,-86 49,-86 49,-67 156,-67 156,-86\"/>\n<text text-anchor=\"middle\" x=\"102.5\" y=\"-74\" font-family=\"monospace\" font-size=\"10.00\" fill=\"#000000\">MseLossBackward</text>\n</g>\n<!-- 140521727962256&#45;&gt;140521730326432 -->\n<g id=\"edge7\" class=\"edge\">\n<title>140521727962256&#45;&gt;140521730326432</title>\n<path fill=\"none\" stroke=\"#000000\" d=\"M102.5,-66.9688C102.5,-60.1289 102.5,-50.5621 102.5,-41.5298\"/>\n<polygon fill=\"#000000\" stroke=\"#000000\" points=\"106.0001,-41.3678 102.5,-31.3678 99.0001,-41.3678 106.0001,-41.3678\"/>\n</g>\n<!-- 140521728052112 -->\n<g id=\"node3\" class=\"node\">\n<title>140521728052112</title>\n<polygon fill=\"#d3d3d3\" stroke=\"#000000\" points=\"150,-141 55,-141 55,-122 150,-122 150,-141\"/>\n<text text-anchor=\"middle\" x=\"102.5\" y=\"-129\" font-family=\"monospace\" font-size=\"10.00\" fill=\"#000000\">AddmmBackward</text>\n</g>\n<!-- 140521728052112&#45;&gt;140521727962256 -->\n<g id=\"edge1\" class=\"edge\">\n<title>140521728052112&#45;&gt;140521727962256</title>\n<path fill=\"none\" stroke=\"#000000\" d=\"M102.5,-121.9197C102.5,-114.9083 102.5,-105.1442 102.5,-96.4652\"/>\n<polygon fill=\"#000000\" stroke=\"#000000\" points=\"106.0001,-96.3408 102.5,-86.3408 99.0001,-96.3409 106.0001,-96.3408\"/>\n</g>\n<!-- 140521727959248 -->\n<g id=\"node4\" class=\"node\">\n<title>140521727959248</title>\n<polygon fill=\"#d3d3d3\" stroke=\"#000000\" points=\"101,-196 0,-196 0,-177 101,-177 101,-196\"/>\n<text text-anchor=\"middle\" x=\"50.5\" y=\"-184\" font-family=\"monospace\" font-size=\"10.00\" fill=\"#000000\">AccumulateGrad</text>\n</g>\n<!-- 140521727959248&#45;&gt;140521728052112 -->\n<g id=\"edge2\" class=\"edge\">\n<title>140521727959248&#45;&gt;140521728052112</title>\n<path fill=\"none\" stroke=\"#000000\" d=\"M59.5577,-176.9197C66.9232,-169.1293 77.5017,-157.9405 86.3161,-148.6176\"/>\n<polygon fill=\"#000000\" stroke=\"#000000\" points=\"88.8691,-151.0119 93.1959,-141.3408 83.7825,-146.2028 88.8691,-151.0119\"/>\n</g>\n<!-- 140521730699904 -->\n<g id=\"node5\" class=\"node\">\n<title>140521730699904</title>\n<polygon fill=\"#add8e6\" stroke=\"#000000\" points=\"77.5,-263 23.5,-263 23.5,-232 77.5,-232 77.5,-263\"/>\n<text text-anchor=\"middle\" x=\"50.5\" y=\"-239\" font-family=\"monospace\" font-size=\"10.00\" fill=\"#000000\"> (1)</text>\n</g>\n<!-- 140521730699904&#45;&gt;140521727959248 -->\n<g id=\"edge3\" class=\"edge\">\n<title>140521730699904&#45;&gt;140521727959248</title>\n<path fill=\"none\" stroke=\"#000000\" d=\"M50.5,-231.791C50.5,-224.0249 50.5,-214.5706 50.5,-206.3129\"/>\n<polygon fill=\"#000000\" stroke=\"#000000\" points=\"54.0001,-206.0647 50.5,-196.0648 47.0001,-206.0648 54.0001,-206.0647\"/>\n</g>\n<!-- 140521727962960 -->\n<g id=\"node6\" class=\"node\">\n<title>140521727962960</title>\n<polygon fill=\"#d3d3d3\" stroke=\"#000000\" points=\"190,-196 119,-196 119,-177 190,-177 190,-196\"/>\n<text text-anchor=\"middle\" x=\"154.5\" y=\"-184\" font-family=\"monospace\" font-size=\"10.00\" fill=\"#000000\">TBackward</text>\n</g>\n<!-- 140521727962960&#45;&gt;140521728052112 -->\n<g id=\"edge4\" class=\"edge\">\n<title>140521727962960&#45;&gt;140521728052112</title>\n<path fill=\"none\" stroke=\"#000000\" d=\"M145.4423,-176.9197C138.0768,-169.1293 127.4983,-157.9405 118.6839,-148.6176\"/>\n<polygon fill=\"#000000\" stroke=\"#000000\" points=\"121.2175,-146.2028 111.8041,-141.3408 116.1309,-151.0119 121.2175,-146.2028\"/>\n</g>\n<!-- 140521728094928 -->\n<g id=\"node7\" class=\"node\">\n<title>140521728094928</title>\n<polygon fill=\"#d3d3d3\" stroke=\"#000000\" points=\"205,-257 104,-257 104,-238 205,-238 205,-257\"/>\n<text text-anchor=\"middle\" x=\"154.5\" y=\"-245\" font-family=\"monospace\" font-size=\"10.00\" fill=\"#000000\">AccumulateGrad</text>\n</g>\n<!-- 140521728094928&#45;&gt;140521727962960 -->\n<g id=\"edge5\" class=\"edge\">\n<title>140521728094928&#45;&gt;140521727962960</title>\n<path fill=\"none\" stroke=\"#000000\" d=\"M154.5,-237.9688C154.5,-229.5131 154.5,-216.8901 154.5,-206.2615\"/>\n<polygon fill=\"#000000\" stroke=\"#000000\" points=\"158.0001,-206.1656 154.5,-196.1656 151.0001,-206.1657 158.0001,-206.1656\"/>\n</g>\n<!-- 140521730699744 -->\n<g id=\"node8\" class=\"node\">\n<title>140521730699744</title>\n<polygon fill=\"#add8e6\" stroke=\"#000000\" points=\"184,-330 125,-330 125,-299 184,-299 184,-330\"/>\n<text text-anchor=\"middle\" x=\"154.5\" y=\"-306\" font-family=\"monospace\" font-size=\"10.00\" fill=\"#000000\"> (1, 1)</text>\n</g>\n<!-- 140521730699744&#45;&gt;140521728094928 -->\n<g id=\"edge6\" class=\"edge\">\n<title>140521730699744&#45;&gt;140521728094928</title>\n<path fill=\"none\" stroke=\"#000000\" d=\"M154.5,-298.9604C154.5,-289.6356 154.5,-277.6748 154.5,-267.6317\"/>\n<polygon fill=\"#000000\" stroke=\"#000000\" points=\"158.0001,-267.35 154.5,-257.3501 151.0001,-267.3501 158.0001,-267.35\"/>\n</g>\n</g>\n</svg>\n"
          },
          "metadata": {
            "tags": []
          },
          "execution_count": 91
        }
      ]
    },
    {
      "cell_type": "code",
      "metadata": {
        "colab": {
          "base_uri": "https://localhost:8080/",
          "height": 265
        },
        "id": "0WzTC9P5THXY",
        "outputId": "72b65c80-651e-4e85-bb8c-48e4f61a3c1a"
      },
      "source": [
        "predicted = model(torch.from_numpy(X)).detach().numpy()\n",
        "# .detach()\n",
        "# creates a new view such that these operations are no more tracked i.e gradient is no longer being computed and subgraph is not going to be recorded.\n",
        "# Hence memory is not utilized.\n",
        "# So its helpful while working with billions of data.\n",
        "plt.plot(X, Y, 'ro', label=\"Original data\")\n",
        "plt.plot(X, predicted, label='Fitted Line')\n",
        "plt.legend()\n",
        "plt.show()"
      ],
      "execution_count": null,
      "outputs": [
        {
          "output_type": "display_data",
          "data": {
            "image/png": "[encoded data removed]",
            "text/plain": [
              "<Figure size 432x288 with 1 Axes>"
            ]
          },
          "metadata": {
            "tags": [],
            "needs_background": "light"
          }
        }
      ]
    },
    {
      "cell_type": "code",
      "metadata": {
        "id": "paP1nzkaW2Yo",
        "colab": {
          "base_uri": "https://localhost:8080/"
        },
        "outputId": "7dc100b7-9c90-4e97-e5c2-003a3f9c1473"
      },
      "source": [
        "w = model.weight.data.numpy()\n",
        "print(w)"
      ],
      "execution_count": null,
      "outputs": [
        {
          "output_type": "stream",
          "text": [
            "[[0.98046863]]\n"
          ],
          "name": "stdout"
        }
      ]
    }
  ]
}